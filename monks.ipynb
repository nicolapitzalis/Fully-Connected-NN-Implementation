{
 "cells": [
  {
   "cell_type": "markdown",
   "metadata": {},
   "source": [
    "## Import"
   ]
  },
  {
   "cell_type": "code",
   "execution_count": null,
   "metadata": {},
   "outputs": [],
   "source": [
    "from network.neural_network import NeuralNetwork\n",
    "from math_functions.function_enums import LossFunction, ActivationFunction, Metrics\n",
    "from utilities.dataset_reader import read_monk\n",
    "from sklearn.utils import shuffle\n",
    "from utilities.utils import plot_over_epochs\n",
    "import numpy as np"
   ]
  },
  {
   "cell_type": "markdown",
   "metadata": {},
   "source": [
    "## Monks"
   ]
  },
  {
   "cell_type": "markdown",
   "metadata": {},
   "source": [
    "### Monks-1"
   ]
  },
  {
   "cell_type": "code",
   "execution_count": null,
   "metadata": {},
   "outputs": [],
   "source": [
    "train_data, train_targets = read_monk('datasets/monks/monks-1.train')\n",
    "test_data, test_targets = read_monk('datasets/monks/monks-1.test')\n",
    "train_data, train_targets = shuffle(train_data, train_targets)"
   ]
  },
  {
   "cell_type": "code",
   "execution_count": null,
   "metadata": {},
   "outputs": [],
   "source": [
    "net = NeuralNetwork(\n",
    "    hidden_layer_sizes=[3], \n",
    "    n_output_units=1, \n",
    "    training_loss_type_value=LossFunction.MSE.value, \n",
    "    validation_loss_type_value=LossFunction.MSE.value, \n",
    "    evaluation_metric_type_value=Metrics.ACCURACY.value,\n",
    "    activation_hidden_type_value=ActivationFunction.SIGMOID.value, \n",
    "    activation_output_type_value=ActivationFunction.SIGMOID.value, \n",
    "    learning_rate=0.05,\n",
    "    reg_lambda=0,\n",
    "    mom_alpha=0.9,\n",
    "    nesterov=False,\n",
    "    epochs=300, \n",
    "    batch_size=1, \n",
    "    classification=True, \n",
    "    early_stopping=False,\n",
    "    fast_stopping=False, \n",
    "    linear_decay=False,\n",
    "    patience=30, \n",
    "    tolerance=0.1,\n",
    "    tao=300, \n",
    "    verbose=False\n",
    "    )\n",
    "\n",
    "net.train_net(train_data=train_data, train_target=train_targets, val_data=test_data, val_target=test_targets)"
   ]
  },
  {
   "cell_type": "code",
   "execution_count": null,
   "metadata": {},
   "outputs": [],
   "source": [
    "plot_over_epochs(y_values=net.training_losses, title='Loss over epochs', y_label='mse', y_legend='training set', y_prime_values=net.validation_losses, y_prime_legend='test set')\n",
    "plot_over_epochs(y_values=net.training_evaluations, title='Accuracy over epochs', y_label='accuracy', y_legend='training set', y_prime_values=net.validation_evaluations, y_prime_legend='test set')"
   ]
  },
  {
   "cell_type": "code",
   "execution_count": null,
   "metadata": {},
   "outputs": [],
   "source": [
    "test_accuracy = net.predict_and_evaluate(test_data, test_targets, Metrics.ACCURACY.value)\n",
    "test_mse = net.predict_and_evaluate(test_data, test_targets, Metrics.MSE.value)\n",
    "test_mee = net.predict_and_evaluate(test_data, test_targets, Metrics.MEE.value)\n",
    "print(\"TEST RESULTS:\")\n",
    "print(f\"Accuracy: {test_accuracy} \\nMSE: {test_mse} \\nMEE: {test_mee}\")\n",
    "print(\"------------------\")\n",
    "print(\"TRAINING RESULTS:\")\n",
    "print(f\"Accuracy: {net.training_evaluations[-1]} \\nMSE: {net.training_losses[-1]}\")"
   ]
  },
  {
   "cell_type": "markdown",
   "metadata": {},
   "source": [
    "#### average performance on 5 trainings"
   ]
  },
  {
   "cell_type": "code",
   "execution_count": null,
   "metadata": {},
   "outputs": [],
   "source": [
    "net = NeuralNetwork(\n",
    "    hidden_layer_sizes=[3], \n",
    "    n_output_units=1, \n",
    "    training_loss_type_value=LossFunction.MSE.value, \n",
    "    validation_loss_type_value=LossFunction.MSE.value, \n",
    "    evaluation_metric_type_value=Metrics.ACCURACY.value,\n",
    "    activation_hidden_type_value=ActivationFunction.SIGMOID.value, \n",
    "    activation_output_type_value=ActivationFunction.SIGMOID.value, \n",
    "    learning_rate=0.05,\n",
    "    reg_lambda=0,\n",
    "    mom_alpha=0.9,\n",
    "    nesterov=False,\n",
    "    epochs=300, \n",
    "    batch_size=1, \n",
    "    classification=True, \n",
    "    early_stopping=False,\n",
    "    fast_stopping=False, \n",
    "    linear_decay=False,\n",
    "    patience=30, \n",
    "    tolerance=0.1,\n",
    "    tao=300, \n",
    "    verbose=False\n",
    "    )\n",
    "\n",
    "avg_test_mse = []\n",
    "avg_test_acc = []\n",
    "avg_training_mse = []\n",
    "avg_training_acc = []\n",
    "for i in range(5):\n",
    "    net.train_net(train_data=train_data, train_target=train_targets, val_data=test_data, val_target=test_targets)\n",
    "    avg_test_acc.append(net.predict_and_evaluate(test_data, test_targets, Metrics.ACCURACY.value))\n",
    "    avg_test_mse.append(net.predict_and_evaluate(test_data, test_targets, Metrics.MSE.value))\n",
    "    avg_training_acc.append(net.training_evaluations[-1])\n",
    "    avg_training_mse.append(net.training_losses[-1])\n",
    "\n",
    "print(f\"Average accuracy: {np.mean(avg_test_acc)}\")\n",
    "print(f\"Average MSE: {np.mean(avg_test_mse)}\")\n",
    "print(f\"Average training accuracy: {np.mean(avg_training_acc)}\")\n",
    "print(f\"Average training MSE: {np.mean(avg_training_mse)}\")"
   ]
  },
  {
   "cell_type": "markdown",
   "metadata": {},
   "source": [
    "### Monks-2"
   ]
  },
  {
   "cell_type": "code",
   "execution_count": null,
   "metadata": {},
   "outputs": [],
   "source": [
    "train_data, train_targets = read_monk('datasets/monks/monks-2.train')\n",
    "test_data, test_targets = read_monk('datasets/monks/monks-2.test')\n",
    "train_data, train_targets = shuffle(train_data, train_targets)"
   ]
  },
  {
   "cell_type": "code",
   "execution_count": null,
   "metadata": {},
   "outputs": [],
   "source": [
    "net = NeuralNetwork(\n",
    "    hidden_layer_sizes=[3], \n",
    "    n_output_units=1, \n",
    "    training_loss_type_value=LossFunction.MSE.value, \n",
    "    validation_loss_type_value=LossFunction.MSE.value,\n",
    "    evaluation_metric_type_value=Metrics.ACCURACY.value,\n",
    "    activation_hidden_type_value=ActivationFunction.SIGMOID.value, \n",
    "    activation_output_type_value=ActivationFunction.SIGMOID.value, \n",
    "    learning_rate=0.2,\n",
    "    reg_lambda=0,\n",
    "    mom_alpha=0.9,\n",
    "    epochs=300, \n",
    "    batch_size=1, \n",
    "    classification=True, \n",
    "    early_stopping=False, \n",
    "    fast_stopping=False,\n",
    "    linear_decay=False,\n",
    "    patience=20, \n",
    "    tolerance=0.0001,\n",
    "    tao=300, \n",
    "    verbose=False\n",
    "    )\n",
    "\n",
    "net.train_net(train_data=train_data, train_target=train_targets, val_data=test_data, val_target=test_targets)"
   ]
  },
  {
   "cell_type": "code",
   "execution_count": null,
   "metadata": {},
   "outputs": [],
   "source": [
    "plot_over_epochs(y_values=net.training_losses, title='Loss over epochs', y_label='mse', y_legend='training set', y_prime_values=net.validation_losses, y_prime_legend='test set')\n",
    "plot_over_epochs(y_values=net.training_evaluations, title='Accuracy over epochs', y_label='mee', y_legend='training set', y_prime_values=net.validation_evaluations, y_prime_legend='test set')"
   ]
  },
  {
   "cell_type": "code",
   "execution_count": null,
   "metadata": {},
   "outputs": [],
   "source": [
    "\n",
    "\n",
    "test_accuracy = net.predict_and_evaluate(test_data, test_targets, Metrics.ACCURACY.value)\n",
    "test_mse = net.predict_and_evaluate(test_data, test_targets, Metrics.MSE.value)\n",
    "test_mee = net.predict_and_evaluate(test_data, test_targets, Metrics.MEE.value)\n",
    "print(\"TEST RESULTS:\")\n",
    "print(f\"Accuracy: {test_accuracy} \\nMSE: {test_mse} \\nMEE: {test_mee}\")\n",
    "print(\"------------------\")\n",
    "print(\"TRAINING RESULTS:\")\n",
    "print(f\"Accuracy: {net.training_evaluations[-1]} \\nMSE: {net.training_losses[-1]}\")\n",
    "\n"
   ]
  },
  {
   "cell_type": "markdown",
   "metadata": {},
   "source": [
    "#### average performance on 5 trainings"
   ]
  },
  {
   "cell_type": "code",
   "execution_count": null,
   "metadata": {},
   "outputs": [],
   "source": [
    "net = NeuralNetwork(\n",
    "    hidden_layer_sizes=[3], \n",
    "    n_output_units=1, \n",
    "    training_loss_type_value=LossFunction.MSE.value, \n",
    "    validation_loss_type_value=LossFunction.MSE.value,\n",
    "    evaluation_metric_type_value=Metrics.ACCURACY.value,\n",
    "    activation_hidden_type_value=ActivationFunction.SIGMOID.value, \n",
    "    activation_output_type_value=ActivationFunction.SIGMOID.value, \n",
    "    learning_rate=0.2,\n",
    "    reg_lambda=0,\n",
    "    mom_alpha=0.9,\n",
    "    epochs=300, \n",
    "    batch_size=1, \n",
    "    classification=True, \n",
    "    early_stopping=False, \n",
    "    fast_stopping=False,\n",
    "    linear_decay=False,\n",
    "    patience=20, \n",
    "    tolerance=0.0001,\n",
    "    tao=300, \n",
    "    verbose=False\n",
    "    )\n",
    "\n",
    "avg_test_mse = []\n",
    "avg_test_acc = []\n",
    "avg_training_mse = []\n",
    "avg_training_acc = []\n",
    "for i in range(5):\n",
    "    net.train_net(train_data=train_data, train_target=train_targets, val_data=test_data, val_target=test_targets)\n",
    "    avg_test_acc.append(net.predict_and_evaluate(test_data, test_targets, Metrics.ACCURACY.value))\n",
    "    avg_test_mse.append(net.predict_and_evaluate(test_data, test_targets, Metrics.MSE.value))\n",
    "    avg_training_acc.append(net.training_evaluations[-1])\n",
    "    avg_training_mse.append(net.training_losses[-1])\n",
    "\n",
    "print(f\"Average accuracy: {np.mean(avg_test_acc)}\")\n",
    "print(f\"Average MSE: {np.mean(avg_test_mse)}\")\n",
    "print(f\"Average training accuracy: {np.mean(avg_training_acc)}\")\n",
    "print(f\"Average training MSE: {np.mean(avg_training_mse)}\")"
   ]
  },
  {
   "cell_type": "markdown",
   "metadata": {},
   "source": [
    "### Monks-3"
   ]
  },
  {
   "cell_type": "code",
   "execution_count": null,
   "metadata": {},
   "outputs": [],
   "source": [
    "train_data, train_targets = read_monk('datasets/monks/monks-3.train')\n",
    "test_data, test_targets = read_monk('datasets/monks/monks-3.test')\n",
    "train_data, train_targets = shuffle(train_data, train_targets)"
   ]
  },
  {
   "cell_type": "code",
   "execution_count": null,
   "metadata": {},
   "outputs": [],
   "source": [
    "net = NeuralNetwork(\n",
    "    hidden_layer_sizes=[3], \n",
    "    n_output_units=1, \n",
    "    training_loss_type_value=LossFunction.MSE.value, \n",
    "    validation_loss_type_value=LossFunction.MSE.value, \n",
    "    evaluation_metric_type_value=Metrics.ACCURACY.value,\n",
    "    activation_hidden_type_value=ActivationFunction.SIGMOID.value, \n",
    "    activation_output_type_value=ActivationFunction.SIGMOID.value, \n",
    "    learning_rate=0.001, \n",
    "    reg_lambda=0,\n",
    "    mom_alpha=0.9,\n",
    "    nesterov=False,\n",
    "    epochs=300, \n",
    "    batch_size=1, \n",
    "    classification=True, \n",
    "    early_stopping=False,\n",
    "    fast_stopping=False, \n",
    "    linear_decay=False,\n",
    "    patience=30, \n",
    "    tolerance=0.001, \n",
    "    tao=300,\n",
    "    verbose=False\n",
    "    )\n",
    "net.train_net(train_data=train_data, train_target=train_targets, val_data=test_data, val_target=test_targets)"
   ]
  },
  {
   "cell_type": "code",
   "execution_count": null,
   "metadata": {},
   "outputs": [],
   "source": [
    "plot_over_epochs(y_values=net.training_losses, title='Loss over epochs', y_label='mse', y_legend='training set', y_prime_values=net.validation_losses, y_prime_legend='test set')\n",
    "plot_over_epochs(y_values=net.training_evaluations, title='Accuracy over epochs', y_label='accuracy', y_legend='training set', y_prime_values=net.validation_evaluations, y_prime_legend='test set')"
   ]
  },
  {
   "cell_type": "code",
   "execution_count": null,
   "metadata": {},
   "outputs": [],
   "source": [
    "\n",
    "\n",
    "test_accuracy = net.predict_and_evaluate(test_data, test_targets, Metrics.ACCURACY.value)\n",
    "test_mse = net.predict_and_evaluate(test_data, test_targets, Metrics.MSE.value)\n",
    "test_mee = net.predict_and_evaluate(test_data, test_targets, Metrics.MEE.value)\n",
    "print(\"TEST RESULTS:\")\n",
    "print(f\"Accuracy: {test_accuracy} \\nMSE: {test_mse} \\nMEE: {test_mee}\")\n",
    "print(\"------------------\")\n",
    "print(\"TRAINING RESULTS:\")\n",
    "print(f\"Accuracy: {net.training_evaluations[-1]} \\nMSE: {net.training_losses[-1]}\")\n",
    "\n"
   ]
  },
  {
   "cell_type": "markdown",
   "metadata": {},
   "source": [
    "#### average performance on 5 trainings"
   ]
  },
  {
   "cell_type": "code",
   "execution_count": null,
   "metadata": {},
   "outputs": [],
   "source": [
    "net = NeuralNetwork(\n",
    "    hidden_layer_sizes=[3], \n",
    "    n_output_units=1, \n",
    "    training_loss_type_value=LossFunction.MSE.value, \n",
    "    validation_loss_type_value=LossFunction.MSE.value, \n",
    "    evaluation_metric_type_value=Metrics.ACCURACY.value,\n",
    "    activation_hidden_type_value=ActivationFunction.SIGMOID.value, \n",
    "    activation_output_type_value=ActivationFunction.SIGMOID.value, \n",
    "    learning_rate=0.008, \n",
    "    reg_lambda=0.008,\n",
    "    mom_alpha=0.9,\n",
    "    nesterov=False,\n",
    "    epochs=300, \n",
    "    batch_size=1, \n",
    "    classification=True, \n",
    "    early_stopping=False,\n",
    "    fast_stopping=False, \n",
    "    linear_decay=False,\n",
    "    patience=30, \n",
    "    tolerance=0.001, \n",
    "    tao=300,\n",
    "    verbose=False\n",
    "    )\n",
    "\n",
    "avg_test_mse = []\n",
    "avg_test_acc = []\n",
    "avg_training_mse = []\n",
    "avg_training_acc = []\n",
    "for i in range(5):\n",
    "    net.train_net(train_data=train_data, train_target=train_targets, val_data=test_data, val_target=test_targets)\n",
    "    avg_test_acc.append(net.predict_and_evaluate(test_data, test_targets, Metrics.ACCURACY.value))\n",
    "    avg_test_mse.append(net.predict_and_evaluate(test_data, test_targets, Metrics.MSE.value))\n",
    "    avg_training_acc.append(net.training_evaluations[-1])\n",
    "    avg_training_mse.append(net.training_losses[-1])\n",
    "\n",
    "print(f\"Average accuracy: {np.mean(avg_test_acc)}\")\n",
    "print(f\"Average MSE: {np.mean(avg_test_mse)}\")\n",
    "print(f\"Average training accuracy: {np.mean(avg_training_acc)}\")\n",
    "print(f\"Average training MSE: {np.mean(avg_training_mse)}\")"
   ]
  }
 ],
 "metadata": {
  "interpreter": {
   "hash": "1bc39b1706b542459c16be0668b5830ebb437320210cbdb758c53f751464c578"
  },
  "kernelspec": {
   "display_name": "Python 3.11.4 ('base')",
   "language": "python",
   "name": "python3"
  },
  "language_info": {
   "codemirror_mode": {
    "name": "ipython",
    "version": 3
   },
   "file_extension": ".py",
   "mimetype": "text/x-python",
   "name": "python",
   "nbconvert_exporter": "python",
   "pygments_lexer": "ipython3",
   "version": "3.8.18"
  }
 },
 "nbformat": 4,
 "nbformat_minor": 2
}
