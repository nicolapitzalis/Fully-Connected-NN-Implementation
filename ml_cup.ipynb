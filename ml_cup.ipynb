{
 "cells": [
  {
   "cell_type": "code",
   "execution_count": 1,
   "metadata": {},
   "outputs": [],
   "source": [
    "from neural_network import NeuralNetwork\n",
    "from neural_network_utility import evaluate\n",
    "from math_functions.function_enums import LossFunction, ActivationFunction, Metrics\n",
    "from dataset_reader import read_monk, read_cup, read_old_cup\n",
    "from validation import kfold_cv, holdout, kfold_cv_ensemble\n",
    "from grid import grid_search, get_top_n_results, get_all_results\n",
    "from sklearn.utils import shuffle\n",
    "from utils import count_configs, save_top_plots, get_list_models, plot_over_epochs\n",
    "from ensemble import Ensemble\n",
    "import numpy as np\n",
    "import json"
   ]
  },
  {
   "cell_type": "markdown",
   "metadata": {},
   "source": [
    "# Hyperparameter tuning"
   ]
  },
  {
   "cell_type": "markdown",
   "metadata": {},
   "source": [
    "## Save training data and internal test data"
   ]
  },
  {
   "cell_type": "code",
   "execution_count": null,
   "metadata": {},
   "outputs": [],
   "source": [
    "# data, targets = read_cup('datasets/cup/CUP_TR.csv')\n",
    "# train_data, test_data, train_targets, test_targets = holdout(data, targets, 0.8, shuffle_set=True)\n",
    "\n",
    "# np.savetxt(MODEL_SEL_DATA_PATH, train_data, delimiter=',')\n",
    "# np.savetxt(MODEL_SEL_TARGETS_PATH, train_targets, delimiter=',')\n",
    "# np.savetxt(MODEL_ASSESS_DATA_PATH, test_data, delimiter=',')\n",
    "# np.savetxt(MODEL_ASSESS_TARGETS_PATH, test_targets, delimiter=',')"
   ]
  },
  {
   "cell_type": "markdown",
   "metadata": {},
   "source": [
    "## Load training data and internal test data"
   ]
  },
  {
   "cell_type": "code",
   "execution_count": 2,
   "metadata": {},
   "outputs": [],
   "source": [
    "MODEL_SEL_DATA_PATH = 'datasets/cup/grid_search/CUP_model_selection_data.csv'\n",
    "MODEL_SEL_TARGETS_PATH = 'datasets/cup/grid_search/CUP_model_selection_targets.csv'\n",
    "MODEL_ASSESS_DATA_PATH = 'datasets/cup/grid_search/CUP_model_assessment_data.csv'\n",
    "MODEL_ASSESS_TARGETS_PATH = 'datasets/cup/grid_search/CUP_model_assessment_targets.csv'"
   ]
  },
  {
   "cell_type": "code",
   "execution_count": 3,
   "metadata": {},
   "outputs": [],
   "source": [
    "train_data = np.loadtxt(MODEL_SEL_DATA_PATH, delimiter=',')\n",
    "train_targets = np.loadtxt(MODEL_SEL_TARGETS_PATH, delimiter=',')\n",
    "test_data = np.loadtxt(MODEL_ASSESS_DATA_PATH, delimiter=',')\n",
    "test_targets = np.loadtxt(MODEL_ASSESS_TARGETS_PATH, delimiter=',')"
   ]
  },
  {
   "cell_type": "code",
   "execution_count": null,
   "metadata": {},
   "outputs": [],
   "source": [
    "fixed_params = dict(\n",
    "    n_output_units=3, \n",
    "    training_loss_type_value=LossFunction.MSE.value, \n",
    "    validation_loss_type_value=LossFunction.MSE.value, \n",
    "    evaluation_metric_type_value=Metrics.MEE.value,\n",
    "    activation_hidden_type_value=ActivationFunction.SIGMOID.value, \n",
    "    activation_output_type_value=ActivationFunction.IDENTITY.value, \n",
    "    classification=False, \n",
    "    early_stopping=True, \n",
    "    fast_stopping=False,\n",
    "    patience=20, \n",
    "    tolerance=0.1,\n",
    "    epochs=500,\n",
    "    verbose=False\n",
    ")\n",
    "\n",
    "grid_params = dict(\n",
    "    batch_size=[64],\n",
    "    hidden_layer_sizes=[[64, 32], [128, 64], [128, 128], [64, 64, 32]],\n",
    "    learning_rate=[0.0005, 0.005, 0.05, 0.1],\n",
    "    mom_alpha=[0, 0.6, 0.7, 0.9],\n",
    "    reg_lambda=[0, 0.0001, 0.00001],\n",
    "    nesterov=[True, False],\n",
    "    linear_decay=[True, False],\n",
    "    tao=[200, 500]\n",
    ")\n",
    "\n",
    "results = grid_search(\n",
    "    k_folds=3, \n",
    "    data=train_data, \n",
    "    target=train_targets, \n",
    "    metrics=[Metrics.MSE.value, Metrics.MEE.value], \n",
    "    fixed_param=fixed_params, \n",
    "    grid_param=grid_params, \n",
    "    file_name_results=\"ml_cup_first_grid\", \n",
    "    verbose=False,\n",
    "    plot=True,\n",
    "    log_scale=True\n",
    ")"
   ]
  }
 ],
 "metadata": {
  "kernelspec": {
   "display_name": "ml",
   "language": "python",
   "name": "python3"
  },
  "language_info": {
   "codemirror_mode": {
    "name": "ipython",
    "version": 3
   },
   "file_extension": ".py",
   "mimetype": "text/x-python",
   "name": "python",
   "nbconvert_exporter": "python",
   "pygments_lexer": "ipython3",
   "version": "3.8.18"
  }
 },
 "nbformat": 4,
 "nbformat_minor": 2
}
