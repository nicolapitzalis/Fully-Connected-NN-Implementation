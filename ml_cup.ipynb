{
 "cells": [
  {
   "cell_type": "markdown",
   "metadata": {},
   "source": [
    "## Import"
   ]
  },
  {
   "cell_type": "code",
   "execution_count": 1,
   "metadata": {},
   "outputs": [],
   "source": [
    "from network.neural_network import NeuralNetwork\n",
    "from network.neural_network_utility import evaluate\n",
    "from math_functions.function_enums import LossFunction, ActivationFunction, Metrics\n",
    "from utilities.dataset_reader import read_monk, read_cup, read_old_cup\n",
    "from model_selection.validation import kfold_cv, holdout, kfold_cv_ensemble\n",
    "from model_selection.grid import grid_search, get_top_n_results, get_all_results\n",
    "from utilities.utils import count_configs, save_top_plots, get_list_models, plot_over_epochs, get_ensemble_models\n",
    "from network.ensemble import Ensemble\n",
    "import numpy as np\n",
    "import json"
   ]
  },
  {
   "cell_type": "markdown",
   "metadata": {},
   "source": [
    "## Save training data and internal test data"
   ]
  },
  {
   "cell_type": "code",
   "execution_count": null,
   "metadata": {},
   "outputs": [],
   "source": [
    "# data, targets = read_cup('datasets/cup/CUP_TR.csv')\n",
    "# train_data, test_data, train_targets, test_targets = holdout(data, targets, 0.8, shuffle_set=True)\n",
    "\n",
    "# np.savetxt(MODEL_SEL_DATA_PATH, train_data, delimiter=',')\n",
    "# np.savetxt(MODEL_SEL_TARGETS_PATH, train_targets, delimiter=',')\n",
    "# np.savetxt(MODEL_ASSESS_DATA_PATH, test_data, delimiter=',')\n",
    "# np.savetxt(MODEL_ASSESS_TARGETS_PATH, test_targets, delimiter=',')"
   ]
  },
  {
   "cell_type": "markdown",
   "metadata": {},
   "source": [
    "## Load training data and internal test data"
   ]
  },
  {
   "cell_type": "code",
   "execution_count": 2,
   "metadata": {},
   "outputs": [],
   "source": [
    "MODEL_SEL_DATA_PATH = 'datasets/cup/grid_search/CUP_model_selection_data.csv'\n",
    "MODEL_SEL_TARGETS_PATH = 'datasets/cup/grid_search/CUP_model_selection_targets.csv'\n",
    "MODEL_ASSESS_DATA_PATH = 'datasets/cup/grid_search/CUP_model_assessment_data.csv'\n",
    "MODEL_ASSESS_TARGETS_PATH = 'datasets/cup/grid_search/CUP_model_assessment_targets.csv'"
   ]
  },
  {
   "cell_type": "code",
   "execution_count": 3,
   "metadata": {},
   "outputs": [],
   "source": [
    "train_data = np.loadtxt(MODEL_SEL_DATA_PATH, delimiter=',')\n",
    "train_targets = np.loadtxt(MODEL_SEL_TARGETS_PATH, delimiter=',')\n",
    "test_data = np.loadtxt(MODEL_ASSESS_DATA_PATH, delimiter=',')\n",
    "test_targets = np.loadtxt(MODEL_ASSESS_TARGETS_PATH, delimiter=',')"
   ]
  },
  {
   "cell_type": "markdown",
   "metadata": {},
   "source": [
    "## Hyperparameter tuning"
   ]
  },
  {
   "cell_type": "code",
   "execution_count": 4,
   "metadata": {},
   "outputs": [
    {
     "name": "stderr",
     "output_type": "stream",
     "text": [
      "100%|██████████| 768/768 [8:52:35<00:00, 41.61s/it]  \n"
     ]
    }
   ],
   "source": [
    "fixed_params = dict(\n",
    "    n_output_units=3, \n",
    "    training_loss_type_value=LossFunction.MSE.value, \n",
    "    validation_loss_type_value=LossFunction.MSE.value, \n",
    "    evaluation_metric_type_value=Metrics.MEE.value,\n",
    "    activation_hidden_type_value=ActivationFunction.SIGMOID.value, \n",
    "    activation_output_type_value=ActivationFunction.IDENTITY.value, \n",
    "    classification=False, \n",
    "    early_stopping=True, \n",
    "    fast_stopping=False,\n",
    "    patience=20, \n",
    "    tolerance=0.1,\n",
    "    epochs=500,\n",
    "    linear_decay=True,\n",
    "    verbose=False,\n",
    ")\n",
    "\n",
    "grid_params = dict(\n",
    "    batch_size=[1, 64, 128],\n",
    "    hidden_layer_sizes=[[64, 32], [128, 64], [128, 128], [64, 64, 32]],\n",
    "    learning_rate=[0.0005, 0.005, 0.05, 0.1],\n",
    "    mom_alpha=[0, 0.6, 0.7, 0.9],\n",
    "    reg_lambda=[0, 0.0001, 0.00001],\n",
    "    nesterov=[True, False],\n",
    "    tao=[200, 500]\n",
    ")\n",
    "\n",
    "results = grid_search(\n",
    "    k_folds=3, \n",
    "    data=train_data, \n",
    "    target=train_targets, \n",
    "    metrics=[Metrics.MSE.value, Metrics.MEE.value], \n",
    "    fixed_param=fixed_params, \n",
    "    grid_param=grid_params, \n",
    "    file_name_results=\"ml_cup_first_grid_full\", \n",
    "    verbose=False,\n",
    "    plot=True,\n",
    "    log_scale=True\n",
    ")"
   ]
  },
  {
   "cell_type": "markdown",
   "metadata": {},
   "source": [
    "#### Examining results"
   ]
  },
  {
   "cell_type": "code",
   "execution_count": 31,
   "metadata": {},
   "outputs": [],
   "source": [
    "top_100_merged = get_top_n_results('ml_cup_first_grid_full.json', 100, 'validation_mee_mean', ascending=True)\n",
    "top_50_merged = get_top_n_results('ml_cup_first_grid_full.json', 50, 'validation_mee_mean', ascending=True)\n",
    "top_20_merged = get_top_n_results('ml_cup_first_grid_full.json', 20, 'validation_mee_mean', ascending=True)"
   ]
  },
  {
   "cell_type": "code",
   "execution_count": 33,
   "metadata": {},
   "outputs": [
    {
     "name": "stdout",
     "output_type": "stream",
     "text": [
      "total number of explored configs: 2304\n",
      "batch_size: 64; hidden_layer_sizes: [128, 128]; learning_rate: 0.1; mom_alpha: 0.9; reg_lambda: 0; nesterov: False; tao: 500: 0.7154765680987968\n",
      "batch_size: 1; hidden_layer_sizes: [128, 128]; learning_rate: 0.005; mom_alpha: 0.7; reg_lambda: 0; nesterov: True; tao: 500: 0.7419609846945789\n",
      "batch_size: 1; hidden_layer_sizes: [128, 128]; learning_rate: 0.005; mom_alpha: 0.6; reg_lambda: 0; nesterov: False; tao: 500: 0.7440397390461252\n",
      "batch_size: 1; hidden_layer_sizes: [128, 128]; learning_rate: 0.005; mom_alpha: 0.6; reg_lambda: 0; nesterov: True; tao: 500: 0.745788525360421\n",
      "batch_size: 1; hidden_layer_sizes: [128, 128]; learning_rate: 0.005; mom_alpha: 0.6; reg_lambda: 1e-05; nesterov: True; tao: 500: 0.7461281733837245\n",
      "batch_size: 1; hidden_layer_sizes: [128, 128]; learning_rate: 0.005; mom_alpha: 0.7; reg_lambda: 1e-05; nesterov: False; tao: 500: 0.7542952696222641\n",
      "batch_size: 1; hidden_layer_sizes: [128, 64]; learning_rate: 0.005; mom_alpha: 0.7; reg_lambda: 0.0001; nesterov: False; tao: 500: 0.7563073894962266\n",
      "batch_size: 64; hidden_layer_sizes: [128, 64]; learning_rate: 0.1; mom_alpha: 0.9; reg_lambda: 0; nesterov: True; tao: 500: 0.7617515470224704\n",
      "batch_size: 1; hidden_layer_sizes: [128, 64]; learning_rate: 0.005; mom_alpha: 0.6; reg_lambda: 0; nesterov: True; tao: 500: 0.7632253987951496\n",
      "batch_size: 1; hidden_layer_sizes: [128, 128]; learning_rate: 0.005; mom_alpha: 0.7; reg_lambda: 0.0001; nesterov: False; tao: 500: 0.7639040654637\n",
      "batch_size: 128; hidden_layer_sizes: [128, 128]; learning_rate: 0.1; mom_alpha: 0.9; reg_lambda: 0; nesterov: True; tao: 500: 0.7691019315634843\n",
      "batch_size: 1; hidden_layer_sizes: [128, 128]; learning_rate: 0.005; mom_alpha: 0.7; reg_lambda: 0; nesterov: False; tao: 500: 0.7691854868578999\n",
      "batch_size: 1; hidden_layer_sizes: [128, 128]; learning_rate: 0.005; mom_alpha: 0.7; reg_lambda: 0.0001; nesterov: True; tao: 500: 0.7695506982087661\n",
      "batch_size: 128; hidden_layer_sizes: [64, 64, 32]; learning_rate: 0.1; mom_alpha: 0.9; reg_lambda: 0; nesterov: True; tao: 500: 0.7734458371022129\n",
      "batch_size: 1; hidden_layer_sizes: [128, 64]; learning_rate: 0.005; mom_alpha: 0.7; reg_lambda: 1e-05; nesterov: False; tao: 500: 0.7746049379735201\n",
      "batch_size: 64; hidden_layer_sizes: [128, 64]; learning_rate: 0.05; mom_alpha: 0.9; reg_lambda: 0; nesterov: False; tao: 500: 0.775287601192836\n",
      "batch_size: 1; hidden_layer_sizes: [128, 128]; learning_rate: 0.005; mom_alpha: 0.6; reg_lambda: 1e-05; nesterov: False; tao: 500: 0.779624480481028\n",
      "batch_size: 64; hidden_layer_sizes: [128, 64]; learning_rate: 0.1; mom_alpha: 0.9; reg_lambda: 0; nesterov: False; tao: 500: 0.7802537021435517\n",
      "batch_size: 128; hidden_layer_sizes: [64, 64, 32]; learning_rate: 0.1; mom_alpha: 0.9; reg_lambda: 0; nesterov: False; tao: 500: 0.7811360323729065\n",
      "batch_size: 1; hidden_layer_sizes: [128, 64]; learning_rate: 0.005; mom_alpha: 0.6; reg_lambda: 0.0001; nesterov: False; tao: 500: 0.7823283338058493\n",
      "batch_size: 1; hidden_layer_sizes: [128, 64]; learning_rate: 0.005; mom_alpha: 0.7; reg_lambda: 0; nesterov: True; tao: 500: 0.7847934294972001\n",
      "batch_size: 1; hidden_layer_sizes: [128, 128]; learning_rate: 0.005; mom_alpha: 0.6; reg_lambda: 0.0001; nesterov: True; tao: 500: 0.7863105171032169\n",
      "batch_size: 1; hidden_layer_sizes: [128, 128]; learning_rate: 0.005; mom_alpha: 0.7; reg_lambda: 1e-05; nesterov: True; tao: 500: 0.7871522609128955\n",
      "batch_size: 1; hidden_layer_sizes: [128, 128]; learning_rate: 0.005; mom_alpha: 0.6; reg_lambda: 0.0001; nesterov: False; tao: 500: 0.7872919225248225\n",
      "batch_size: 1; hidden_layer_sizes: [128, 64]; learning_rate: 0.005; mom_alpha: 0.7; reg_lambda: 0.0001; nesterov: True; tao: 500: 0.7919146912547199\n",
      "batch_size: 1; hidden_layer_sizes: [128, 64]; learning_rate: 0.005; mom_alpha: 0.7; reg_lambda: 1e-05; nesterov: True; tao: 500: 0.7982382886515099\n",
      "batch_size: 1; hidden_layer_sizes: [64, 32]; learning_rate: 0.005; mom_alpha: 0.6; reg_lambda: 1e-05; nesterov: True; tao: 500: 0.8012476655518204\n",
      "batch_size: 64; hidden_layer_sizes: [128, 128]; learning_rate: 0.1; mom_alpha: 0.9; reg_lambda: 0; nesterov: True; tao: 500: 0.8025707319872527\n",
      "batch_size: 64; hidden_layer_sizes: [128, 128]; learning_rate: 0.05; mom_alpha: 0.9; reg_lambda: 0; nesterov: True; tao: 500: 0.8028411752947933\n",
      "batch_size: 128; hidden_layer_sizes: [128, 128]; learning_rate: 0.1; mom_alpha: 0.9; reg_lambda: 0; nesterov: False; tao: 500: 0.8061420039568029\n",
      "batch_size: 128; hidden_layer_sizes: [128, 64]; learning_rate: 0.1; mom_alpha: 0.9; reg_lambda: 0; nesterov: True; tao: 500: 0.807719102896917\n",
      "batch_size: 1; hidden_layer_sizes: [128, 128]; learning_rate: 0.005; mom_alpha: 0.6; reg_lambda: 0; nesterov: False; tao: 200: 0.8077265040048528\n",
      "batch_size: 1; hidden_layer_sizes: [128, 64]; learning_rate: 0.005; mom_alpha: 0.7; reg_lambda: 0; nesterov: False; tao: 500: 0.8079991015296919\n",
      "batch_size: 1; hidden_layer_sizes: [128, 128]; learning_rate: 0.005; mom_alpha: 0.7; reg_lambda: 1e-05; nesterov: True; tao: 200: 0.8112343178511862\n",
      "batch_size: 1; hidden_layer_sizes: [128, 64]; learning_rate: 0.005; mom_alpha: 0.6; reg_lambda: 0; nesterov: False; tao: 500: 0.8126788979878908\n",
      "batch_size: 1; hidden_layer_sizes: [128, 128]; learning_rate: 0.005; mom_alpha: 0.7; reg_lambda: 0; nesterov: True; tao: 200: 0.8128843300993799\n",
      "batch_size: 64; hidden_layer_sizes: [128, 128]; learning_rate: 0.1; mom_alpha: 0.9; reg_lambda: 0; nesterov: True; tao: 200: 0.8155806793178879\n",
      "batch_size: 64; hidden_layer_sizes: [64, 64, 32]; learning_rate: 0.05; mom_alpha: 0.9; reg_lambda: 0; nesterov: True; tao: 500: 0.8170324003222172\n",
      "batch_size: 1; hidden_layer_sizes: [64, 64, 32]; learning_rate: 0.005; mom_alpha: 0; reg_lambda: 0; nesterov: True; tao: 500: 0.820452697309257\n",
      "batch_size: 64; hidden_layer_sizes: [128, 64]; learning_rate: 0.05; mom_alpha: 0.9; reg_lambda: 0; nesterov: True; tao: 500: 0.8211345312144522\n",
      "batch_size: 1; hidden_layer_sizes: [64, 64, 32]; learning_rate: 0.0005; mom_alpha: 0.9; reg_lambda: 0; nesterov: True; tao: 500: 0.8222333124202414\n",
      "batch_size: 1; hidden_layer_sizes: [128, 64]; learning_rate: 0.005; mom_alpha: 0.6; reg_lambda: 1e-05; nesterov: False; tao: 500: 0.8230204588331564\n",
      "batch_size: 64; hidden_layer_sizes: [128, 128]; learning_rate: 0.1; mom_alpha: 0.9; reg_lambda: 1e-05; nesterov: False; tao: 500: 0.8258797633421059\n",
      "batch_size: 1; hidden_layer_sizes: [128, 128]; learning_rate: 0.005; mom_alpha: 0; reg_lambda: 1e-05; nesterov: True; tao: 500: 0.8269817727981251\n",
      "batch_size: 64; hidden_layer_sizes: [64, 32]; learning_rate: 0.05; mom_alpha: 0.9; reg_lambda: 0; nesterov: False; tao: 500: 0.8284263975623012\n",
      "batch_size: 1; hidden_layer_sizes: [64, 64, 32]; learning_rate: 0.005; mom_alpha: 0; reg_lambda: 1e-05; nesterov: True; tao: 500: 0.828886719742049\n",
      "batch_size: 128; hidden_layer_sizes: [128, 64]; learning_rate: 0.1; mom_alpha: 0.9; reg_lambda: 0; nesterov: False; tao: 500: 0.8289033744450113\n",
      "batch_size: 64; hidden_layer_sizes: [64, 64, 32]; learning_rate: 0.05; mom_alpha: 0.9; reg_lambda: 0; nesterov: False; tao: 500: 0.8291169592936424\n",
      "batch_size: 1; hidden_layer_sizes: [64, 32]; learning_rate: 0.005; mom_alpha: 0.7; reg_lambda: 0.0001; nesterov: False; tao: 500: 0.8291248828052344\n",
      "batch_size: 1; hidden_layer_sizes: [64, 32]; learning_rate: 0.005; mom_alpha: 0.7; reg_lambda: 0; nesterov: False; tao: 500: 0.8292668291844144\n",
      "batch_size: 64; hidden_layer_sizes: [128, 128]; learning_rate: 0.05; mom_alpha: 0.9; reg_lambda: 0; nesterov: False; tao: 500: 0.8292840103769793\n",
      "batch_size: 1; hidden_layer_sizes: [128, 64]; learning_rate: 0.005; mom_alpha: 0.6; reg_lambda: 1e-05; nesterov: True; tao: 500: 0.8301201283125291\n",
      "batch_size: 1; hidden_layer_sizes: [64, 32]; learning_rate: 0.005; mom_alpha: 0.7; reg_lambda: 0; nesterov: True; tao: 500: 0.8302182820513943\n",
      "batch_size: 1; hidden_layer_sizes: [128, 64]; learning_rate: 0.005; mom_alpha: 0.7; reg_lambda: 0.0001; nesterov: True; tao: 200: 0.8316292632181895\n",
      "batch_size: 1; hidden_layer_sizes: [64, 64, 32]; learning_rate: 0.005; mom_alpha: 0; reg_lambda: 1e-05; nesterov: False; tao: 500: 0.8317873944070375\n",
      "batch_size: 1; hidden_layer_sizes: [64, 32]; learning_rate: 0.005; mom_alpha: 0.6; reg_lambda: 0; nesterov: True; tao: 500: 0.8322125307453451\n",
      "batch_size: 1; hidden_layer_sizes: [64, 64, 32]; learning_rate: 0.0005; mom_alpha: 0.9; reg_lambda: 1e-05; nesterov: True; tao: 500: 0.8323831372177585\n",
      "batch_size: 1; hidden_layer_sizes: [64, 64, 32]; learning_rate: 0.005; mom_alpha: 0; reg_lambda: 0; nesterov: False; tao: 500: 0.8332816762205638\n",
      "batch_size: 1; hidden_layer_sizes: [64, 64, 32]; learning_rate: 0.0005; mom_alpha: 0.9; reg_lambda: 0; nesterov: False; tao: 500: 0.8335469956127657\n",
      "batch_size: 64; hidden_layer_sizes: [128, 128]; learning_rate: 0.1; mom_alpha: 0.9; reg_lambda: 0; nesterov: False; tao: 200: 0.8337438429336981\n",
      "batch_size: 1; hidden_layer_sizes: [128, 128]; learning_rate: 0.005; mom_alpha: 0; reg_lambda: 1e-05; nesterov: False; tao: 500: 0.8343228275050297\n",
      "batch_size: 64; hidden_layer_sizes: [128, 64]; learning_rate: 0.1; mom_alpha: 0.9; reg_lambda: 0; nesterov: True; tao: 200: 0.835466159241105\n",
      "batch_size: 1; hidden_layer_sizes: [64, 32]; learning_rate: 0.005; mom_alpha: 0.6; reg_lambda: 0; nesterov: False; tao: 500: 0.8382491440574875\n",
      "batch_size: 64; hidden_layer_sizes: [128, 64]; learning_rate: 0.1; mom_alpha: 0.7; reg_lambda: 0; nesterov: False; tao: 500: 0.8391611154868892\n",
      "batch_size: 128; hidden_layer_sizes: [64, 32]; learning_rate: 0.1; mom_alpha: 0.9; reg_lambda: 0; nesterov: True; tao: 500: 0.8399216147060674\n",
      "batch_size: 1; hidden_layer_sizes: [128, 128]; learning_rate: 0.005; mom_alpha: 0.7; reg_lambda: 1e-05; nesterov: False; tao: 200: 0.8419094503600294\n",
      "batch_size: 1; hidden_layer_sizes: [128, 128]; learning_rate: 0.005; mom_alpha: 0.7; reg_lambda: 0.0001; nesterov: False; tao: 200: 0.84225450570007\n",
      "batch_size: 64; hidden_layer_sizes: [64, 64, 32]; learning_rate: 0.1; mom_alpha: 0.6; reg_lambda: 0; nesterov: True; tao: 500: 0.8425896210690388\n",
      "batch_size: 1; hidden_layer_sizes: [128, 64]; learning_rate: 0.005; mom_alpha: 0; reg_lambda: 0; nesterov: True; tao: 500: 0.842818615570132\n",
      "batch_size: 1; hidden_layer_sizes: [128, 64]; learning_rate: 0.005; mom_alpha: 0; reg_lambda: 0; nesterov: False; tao: 500: 0.8429756446101343\n",
      "batch_size: 128; hidden_layer_sizes: [64, 32]; learning_rate: 0.1; mom_alpha: 0.9; reg_lambda: 0; nesterov: False; tao: 500: 0.8432070503868686\n",
      "batch_size: 1; hidden_layer_sizes: [128, 128]; learning_rate: 0.0005; mom_alpha: 0.9; reg_lambda: 0; nesterov: False; tao: 500: 0.8437995372278553\n",
      "batch_size: 64; hidden_layer_sizes: [128, 128]; learning_rate: 0.1; mom_alpha: 0.7; reg_lambda: 0; nesterov: False; tao: 500: 0.8442659603607786\n",
      "batch_size: 64; hidden_layer_sizes: [64, 32]; learning_rate: 0.1; mom_alpha: 0.9; reg_lambda: 0; nesterov: False; tao: 500: 0.844582014049216\n",
      "batch_size: 1; hidden_layer_sizes: [128, 128]; learning_rate: 0.005; mom_alpha: 0.6; reg_lambda: 1e-05; nesterov: False; tao: 200: 0.8450745865313368\n",
      "batch_size: 64; hidden_layer_sizes: [64, 64, 32]; learning_rate: 0.1; mom_alpha: 0.7; reg_lambda: 0; nesterov: True; tao: 500: 0.8457914023041869\n",
      "batch_size: 128; hidden_layer_sizes: [64, 64, 32]; learning_rate: 0.05; mom_alpha: 0.9; reg_lambda: 0; nesterov: True; tao: 500: 0.8463019500742401\n",
      "batch_size: 1; hidden_layer_sizes: [64, 64, 32]; learning_rate: 0.005; mom_alpha: 0; reg_lambda: 0.0001; nesterov: True; tao: 500: 0.8470268338579526\n",
      "batch_size: 1; hidden_layer_sizes: [128, 128]; learning_rate: 0.005; mom_alpha: 0.7; reg_lambda: 0; nesterov: False; tao: 200: 0.8471510939488623\n",
      "batch_size: 64; hidden_layer_sizes: [64, 32]; learning_rate: 0.1; mom_alpha: 0.7; reg_lambda: 0; nesterov: True; tao: 500: 0.8485166563413565\n",
      "batch_size: 64; hidden_layer_sizes: [64, 32]; learning_rate: 0.05; mom_alpha: 0.9; reg_lambda: 0; nesterov: True; tao: 500: 0.8494622548928312\n",
      "batch_size: 1; hidden_layer_sizes: [64, 64, 32]; learning_rate: 0.005; mom_alpha: 0.6; reg_lambda: 1e-05; nesterov: True; tao: 500: 0.8500322233589105\n",
      "batch_size: 64; hidden_layer_sizes: [128, 128]; learning_rate: 0.1; mom_alpha: 0.9; reg_lambda: 1e-05; nesterov: True; tao: 500: 0.8507233534179234\n",
      "batch_size: 64; hidden_layer_sizes: [128, 128]; learning_rate: 0.1; mom_alpha: 0.7; reg_lambda: 0; nesterov: True; tao: 500: 0.851683542116653\n",
      "batch_size: 1; hidden_layer_sizes: [128, 128]; learning_rate: 0.005; mom_alpha: 0.7; reg_lambda: 0.0001; nesterov: True; tao: 200: 0.852147472281959\n",
      "batch_size: 1; hidden_layer_sizes: [64, 32]; learning_rate: 0.005; mom_alpha: 0.6; reg_lambda: 1e-05; nesterov: False; tao: 500: 0.8522636056436644\n",
      "batch_size: 1; hidden_layer_sizes: [128, 64]; learning_rate: 0.005; mom_alpha: 0.7; reg_lambda: 0; nesterov: True; tao: 200: 0.8534366573210385\n",
      "batch_size: 1; hidden_layer_sizes: [128, 64]; learning_rate: 0.0005; mom_alpha: 0.9; reg_lambda: 0; nesterov: True; tao: 500: 0.8538583191395134\n",
      "batch_size: 1; hidden_layer_sizes: [64, 32]; learning_rate: 0.005; mom_alpha: 0.6; reg_lambda: 0.0001; nesterov: False; tao: 500: 0.8545797567761738\n",
      "batch_size: 1; hidden_layer_sizes: [64, 32]; learning_rate: 0.005; mom_alpha: 0; reg_lambda: 1e-05; nesterov: True; tao: 500: 0.85477819250738\n",
      "batch_size: 1; hidden_layer_sizes: [128, 64]; learning_rate: 0.005; mom_alpha: 0.6; reg_lambda: 0.0001; nesterov: True; tao: 500: 0.8552498208508936\n",
      "batch_size: 1; hidden_layer_sizes: [64, 32]; learning_rate: 0.005; mom_alpha: 0.7; reg_lambda: 0.0001; nesterov: True; tao: 500: 0.8552591624117062\n",
      "batch_size: 1; hidden_layer_sizes: [128, 128]; learning_rate: 0.005; mom_alpha: 0; reg_lambda: 0; nesterov: True; tao: 500: 0.8552834213163796\n",
      "batch_size: 1; hidden_layer_sizes: [64, 64, 32]; learning_rate: 0.0005; mom_alpha: 0.9; reg_lambda: 1e-05; nesterov: False; tao: 500: 0.8556543100718025\n",
      "batch_size: 1; hidden_layer_sizes: [128, 64]; learning_rate: 0.005; mom_alpha: 0.7; reg_lambda: 0.0001; nesterov: False; tao: 200: 0.8556777655242932\n",
      "batch_size: 1; hidden_layer_sizes: [64, 32]; learning_rate: 0.005; mom_alpha: 0.6; reg_lambda: 0.0001; nesterov: True; tao: 500: 0.8570640799219992\n",
      "batch_size: 64; hidden_layer_sizes: [64, 64, 32]; learning_rate: 0.1; mom_alpha: 0.9; reg_lambda: 1e-05; nesterov: True; tao: 500: 0.8575352518932027\n",
      "batch_size: 64; hidden_layer_sizes: [64, 32]; learning_rate: 0.1; mom_alpha: 0.9; reg_lambda: 0; nesterov: True; tao: 500: 0.8579958164786857\n",
      "batch_size: 1; hidden_layer_sizes: [64, 64, 32]; learning_rate: 0.005; mom_alpha: 0.6; reg_lambda: 0; nesterov: False; tao: 500: 0.8594407680776327\n",
      "batch_size: 1; hidden_layer_sizes: [64, 32]; learning_rate: 0.005; mom_alpha: 0; reg_lambda: 0; nesterov: True; tao: 500: 0.8595809616096428\n"
     ]
    }
   ],
   "source": [
    "results = get_all_results('ml_cup_first_grid_full.json')\n",
    "print(f'total number of explored configs: {len(results)}')\n",
    "\n",
    "validation_mee_means = {model[0]: model[1]['validation_mee_mean'] for model in top_100_merged}\n",
    "\n",
    "for model_config, mee_mean in validation_mee_means.items():\n",
    "    print(f\"{model_config}: {mee_mean}\")"
   ]
  },
  {
   "cell_type": "code",
   "execution_count": 34,
   "metadata": {},
   "outputs": [
    {
     "name": "stdout",
     "output_type": "stream",
     "text": [
      "TOP-100----------------\n",
      "batch_size:\n",
      "  64: 26\n",
      "  1: 65\n",
      "  128: 9\n",
      "hidden_layer_sizes:\n",
      "  [128, 128]: 36\n",
      "  [128, 64]: 26\n",
      "  [64, 64, 32]: 19\n",
      "  [64, 32]: 19\n",
      "learning_rate:\n",
      "  0.1: 26\n",
      "  0.005: 59\n",
      "  0.05: 9\n",
      "  0.0005: 6\n",
      "mom_alpha:\n",
      "  0.9: 35\n",
      "  0.7: 30\n",
      "  0.6: 23\n",
      "  0: 12\n",
      "reg_lambda:\n",
      "  0: 59\n",
      "  1e-05: 24\n",
      "  0.0001: 17\n",
      "nesterov:\n",
      "  False: 46\n",
      "  True: 54\n",
      "tao:\n",
      "  500: 86\n",
      "  200: 14\n",
      "\n",
      "TOP-50----------------\n",
      "batch_size:\n",
      "  64: 12\n",
      "  1: 32\n",
      "  128: 6\n",
      "hidden_layer_sizes:\n",
      "  [128, 128]: 23\n",
      "  [128, 64]: 16\n",
      "  [64, 64, 32]: 7\n",
      "  [64, 32]: 4\n",
      "learning_rate:\n",
      "  0.1: 12\n",
      "  0.005: 31\n",
      "  0.05: 6\n",
      "  0.0005: 1\n",
      "mom_alpha:\n",
      "  0.9: 19\n",
      "  0.7: 16\n",
      "  0.6: 12\n",
      "  0: 3\n",
      "reg_lambda:\n",
      "  0: 30\n",
      "  1e-05: 12\n",
      "  0.0001: 8\n",
      "nesterov:\n",
      "  False: 24\n",
      "  True: 26\n",
      "tao:\n",
      "  500: 46\n",
      "  200: 4\n",
      "\n",
      "TOP-20----------------\n",
      "batch_size:\n",
      "  64: 4\n",
      "  1: 13\n",
      "  128: 3\n",
      "hidden_layer_sizes:\n",
      "  [128, 128]: 11\n",
      "  [128, 64]: 7\n",
      "  [64, 64, 32]: 2\n",
      "learning_rate:\n",
      "  0.1: 6\n",
      "  0.005: 13\n",
      "  0.05: 1\n",
      "mom_alpha:\n",
      "  0.9: 7\n",
      "  0.7: 7\n",
      "  0.6: 6\n",
      "reg_lambda:\n",
      "  0: 12\n",
      "  1e-05: 4\n",
      "  0.0001: 4\n",
      "nesterov:\n",
      "  False: 12\n",
      "  True: 8\n",
      "tao:\n",
      "  500: 20\n"
     ]
    }
   ],
   "source": [
    "print('TOP-100----------------')\n",
    "count_configs(top_100_merged)\n",
    "print('\\nTOP-50----------------')\n",
    "count_configs(top_50_merged)\n",
    "print('\\nTOP-20----------------')\n",
    "count_configs(top_20_merged)"
   ]
  },
  {
   "cell_type": "code",
   "execution_count": 11,
   "metadata": {},
   "outputs": [],
   "source": [
    "save_top_plots(top_20, 'ml_cup_first_grid', 'ml_cup_first_grid_top_20')"
   ]
  },
  {
   "cell_type": "markdown",
   "metadata": {},
   "source": [
    "training on best model for 64 batch_size version"
   ]
  },
  {
   "cell_type": "markdown",
   "metadata": {},
   "source": [
    "### Second grid on batch size 64"
   ]
  },
  {
   "cell_type": "markdown",
   "metadata": {},
   "source": [
    "batch_size 64 grid"
   ]
  },
  {
   "cell_type": "code",
   "execution_count": 35,
   "metadata": {},
   "outputs": [
    {
     "name": "stderr",
     "output_type": "stream",
     "text": [
      "100%|██████████| 96/96 [13:12:12<00:00, 495.13s/it]  \n"
     ]
    }
   ],
   "source": [
    "fixed_params = dict(\n",
    "    n_output_units=3, \n",
    "    training_loss_type_value=LossFunction.MSE.value, \n",
    "    validation_loss_type_value=LossFunction.MSE.value, \n",
    "    evaluation_metric_type_value=Metrics.MEE.value,\n",
    "    activation_hidden_type_value=ActivationFunction.SIGMOID.value, \n",
    "    activation_output_type_value=ActivationFunction.IDENTITY.value, \n",
    "    classification=False, \n",
    "    early_stopping=True, \n",
    "    fast_stopping=False,\n",
    "    patience=20, \n",
    "    tolerance=0.1,\n",
    "    epochs=2000,\n",
    "    linear_decay=True,\n",
    "    batch_size=64,\n",
    "    hidden_layer_sizes=[128, 128],\n",
    "    nesterov=True,\n",
    "    verbose=False,\n",
    ")\n",
    "\n",
    "grid_params = dict(\n",
    "    learning_rate=[0.02, 0.04, 0.05, 0.08, 0.1, 0.2],\n",
    "    mom_alpha=[0, 0.6, 0.7, 0.9],\n",
    "    reg_lambda=[0, 0.00001],\n",
    "    tao=[500, 1000]\n",
    ")\n",
    "\n",
    "results = grid_search(\n",
    "    k_folds=5, \n",
    "    data=train_data, \n",
    "    target=train_targets, \n",
    "    metrics=[Metrics.MSE.value, Metrics.MEE.value], \n",
    "    fixed_param=fixed_params, \n",
    "    grid_param=grid_params, \n",
    "    file_name_results=\"ml_cup_second_grid_batch_64\", \n",
    "    verbose=False,\n",
    "    plot=True,\n",
    "    log_scale=True\n",
    ")"
   ]
  },
  {
   "cell_type": "markdown",
   "metadata": {},
   "source": [
    "### Second grid on batch_size 1"
   ]
  },
  {
   "cell_type": "markdown",
   "metadata": {},
   "source": [
    "batch_size 1 grid"
   ]
  },
  {
   "cell_type": "code",
   "execution_count": null,
   "metadata": {},
   "outputs": [],
   "source": [
    "fixed_params = dict(\n",
    "    n_output_units=3, \n",
    "    training_loss_type_value=LossFunction.MSE.value, \n",
    "    validation_loss_type_value=LossFunction.MSE.value, \n",
    "    evaluation_metric_type_value=Metrics.MEE.value,\n",
    "    activation_hidden_type_value=ActivationFunction.SIGMOID.value, \n",
    "    activation_output_type_value=ActivationFunction.IDENTITY.value, \n",
    "    classification=False, \n",
    "    early_stopping=True, \n",
    "    fast_stopping=False,\n",
    "    patience=20, \n",
    "    tolerance=0.1,\n",
    "    epochs=2000,\n",
    "    linear_decay=True,\n",
    "    batch_size=1,\n",
    "    hidden_layer_sizes=[128, 128],\n",
    "    nesterov=False,\n",
    "    verbose=False,\n",
    ")\n",
    "\n",
    "grid_params = dict(\n",
    "    learning_rate=[0.002, 0.003, 0.004, 0.005, 0.006, 0.007, 0.008],\n",
    "    mom_alpha=[0.5, 0.6, 0.7],\n",
    "    reg_lambda=[0, 0.0001, 0.00001, 0.00005],\n",
    "    tao=[500, 1000]\n",
    ")\n",
    "\n",
    "results = grid_search(\n",
    "    k_folds=5, \n",
    "    data=train_data, \n",
    "    target=train_targets, \n",
    "    metrics=[Metrics.MSE.value, Metrics.MEE.value], \n",
    "    fixed_param=fixed_params, \n",
    "    grid_param=grid_params, \n",
    "    file_name_results=\"ml_cup_second_grid_batch_1\", \n",
    "    verbose=False,\n",
    "    plot=True,\n",
    "    log_scale=True\n",
    ")"
   ]
  },
  {
   "cell_type": "markdown",
   "metadata": {},
   "source": [
    "### Results examination"
   ]
  },
  {
   "cell_type": "code",
   "execution_count": 17,
   "metadata": {},
   "outputs": [],
   "source": [
    "top_100_second_batch_64 = get_top_n_results('ml_cup_second_grid_batch_64.json', 100, 'validation_mee_mean', ascending=True)\n",
    "top_50_second_batch_64 = get_top_n_results('ml_cup_second_grid_batch_64.json', 50, 'validation_mee_mean', ascending=True)\n",
    "top_20_second_batch_64 = get_top_n_results('ml_cup_second_grid_batch_64.json', 20, 'validation_mee_mean', ascending=True)"
   ]
  },
  {
   "cell_type": "code",
   "execution_count": 38,
   "metadata": {},
   "outputs": [
    {
     "name": "stdout",
     "output_type": "stream",
     "text": [
      "total number of explored configs: 96\n",
      "learning_rate: 0.2; mom_alpha: 0.7; reg_lambda: 0; tao: 1000: 0.6003694811361622\n",
      "learning_rate: 0.08; mom_alpha: 0.9; reg_lambda: 0; tao: 1000: 0.6042017933029158\n",
      "learning_rate: 0.08; mom_alpha: 0.9; reg_lambda: 0; tao: 500: 0.6478211690575787\n",
      "learning_rate: 0.04; mom_alpha: 0.9; reg_lambda: 0; tao: 1000: 0.654818198410873\n",
      "learning_rate: 0.1; mom_alpha: 0.7; reg_lambda: 0; tao: 1000: 0.6570708456759368\n",
      "learning_rate: 0.1; mom_alpha: 0.9; reg_lambda: 0; tao: 500: 0.6621546623019582\n",
      "learning_rate: 0.05; mom_alpha: 0.9; reg_lambda: 0; tao: 1000: 0.6628410870486051\n",
      "learning_rate: 0.2; mom_alpha: 0.6; reg_lambda: 0; tao: 1000: 0.6723628115401941\n",
      "learning_rate: 0.2; mom_alpha: 0.7; reg_lambda: 0; tao: 500: 0.6823861092812891\n",
      "learning_rate: 0.05; mom_alpha: 0.9; reg_lambda: 0; tao: 500: 0.6886046465394321\n",
      "learning_rate: 0.2; mom_alpha: 0.6; reg_lambda: 0; tao: 500: 0.7128370930049155\n",
      "learning_rate: 0.1; mom_alpha: 0.6; reg_lambda: 0; tao: 1000: 0.7165228328288021\n",
      "learning_rate: 0.2; mom_alpha: 0.9; reg_lambda: 1e-05; tao: 1000: 0.7263399759135049\n",
      "learning_rate: 0.08; mom_alpha: 0.7; reg_lambda: 0; tao: 1000: 0.7375277368649945\n",
      "learning_rate: 0.02; mom_alpha: 0.9; reg_lambda: 0; tao: 1000: 0.7414013979757652\n",
      "learning_rate: 0.1; mom_alpha: 0.9; reg_lambda: 0; tao: 1000: 0.7464330677435153\n",
      "learning_rate: 0.1; mom_alpha: 0.9; reg_lambda: 1e-05; tao: 1000: 0.7468176941758922\n",
      "learning_rate: 0.08; mom_alpha: 0.6; reg_lambda: 0; tao: 1000: 0.7497612735465823\n",
      "learning_rate: 0.05; mom_alpha: 0.7; reg_lambda: 0; tao: 1000: 0.7509671478766135\n",
      "learning_rate: 0.2; mom_alpha: 0.9; reg_lambda: 1e-05; tao: 500: 0.7525541869151903\n",
      "learning_rate: 0.2; mom_alpha: 0; reg_lambda: 0; tao: 1000: 0.7591573866336792\n",
      "learning_rate: 0.1; mom_alpha: 0.9; reg_lambda: 1e-05; tao: 500: 0.7682486847656876\n",
      "learning_rate: 0.04; mom_alpha: 0.9; reg_lambda: 0; tao: 500: 0.7688041089455562\n",
      "learning_rate: 0.08; mom_alpha: 0.9; reg_lambda: 1e-05; tao: 1000: 0.7742525911831468\n",
      "learning_rate: 0.2; mom_alpha: 0.9; reg_lambda: 0; tao: 500: 0.7774352233627326\n",
      "learning_rate: 0.1; mom_alpha: 0.7; reg_lambda: 0; tao: 500: 0.7872899275930573\n",
      "learning_rate: 0.08; mom_alpha: 0.9; reg_lambda: 1e-05; tao: 500: 0.7932745475116522\n",
      "learning_rate: 0.08; mom_alpha: 0.7; reg_lambda: 0; tao: 500: 0.8027341514299813\n",
      "learning_rate: 0.2; mom_alpha: 0.7; reg_lambda: 1e-05; tao: 1000: 0.8100417279607003\n",
      "learning_rate: 0.05; mom_alpha: 0.6; reg_lambda: 0; tao: 1000: 0.8137469219812303\n",
      "learning_rate: 0.05; mom_alpha: 0.9; reg_lambda: 1e-05; tao: 1000: 0.8164142697414544\n",
      "learning_rate: 0.04; mom_alpha: 0.7; reg_lambda: 0; tao: 1000: 0.8252936942698194\n",
      "learning_rate: 0.1; mom_alpha: 0.6; reg_lambda: 0; tao: 500: 0.8280965323797507\n",
      "learning_rate: 0.2; mom_alpha: 0.7; reg_lambda: 1e-05; tao: 500: 0.853605252196631\n",
      "learning_rate: 0.2; mom_alpha: 0.6; reg_lambda: 1e-05; tao: 1000: 0.8586801415938305\n",
      "learning_rate: 0.2; mom_alpha: 0.9; reg_lambda: 0; tao: 1000: 0.8592839131821753\n",
      "learning_rate: 0.02; mom_alpha: 0.9; reg_lambda: 0; tao: 500: 0.863956102780157\n",
      "learning_rate: 0.04; mom_alpha: 0.9; reg_lambda: 1e-05; tao: 1000: 0.8660910222169506\n",
      "learning_rate: 0.2; mom_alpha: 0; reg_lambda: 0; tao: 500: 0.8733482675606016\n",
      "learning_rate: 0.08; mom_alpha: 0.6; reg_lambda: 0; tao: 500: 0.8831992850381015\n",
      "learning_rate: 0.2; mom_alpha: 0.6; reg_lambda: 1e-05; tao: 500: 0.8902989332665111\n",
      "learning_rate: 0.04; mom_alpha: 0.6; reg_lambda: 0; tao: 1000: 0.8918268161853824\n",
      "learning_rate: 0.05; mom_alpha: 0.9; reg_lambda: 1e-05; tao: 500: 0.9015836265875871\n",
      "learning_rate: 0.05; mom_alpha: 0.7; reg_lambda: 0; tao: 500: 0.9064683280396405\n",
      "learning_rate: 0.1; mom_alpha: 0; reg_lambda: 0; tao: 1000: 0.9071580794356556\n",
      "learning_rate: 0.1; mom_alpha: 0.7; reg_lambda: 1e-05; tao: 1000: 0.9180917301649991\n",
      "learning_rate: 0.04; mom_alpha: 0.9; reg_lambda: 1e-05; tao: 500: 0.9548012555549699\n",
      "learning_rate: 0.08; mom_alpha: 0; reg_lambda: 0; tao: 1000: 0.9659009118980446\n",
      "learning_rate: 0.04; mom_alpha: 0.7; reg_lambda: 0; tao: 500: 0.9716057138122085\n",
      "learning_rate: 0.08; mom_alpha: 0.7; reg_lambda: 1e-05; tao: 1000: 0.9818972338542122\n",
      "learning_rate: 0.02; mom_alpha: 0.7; reg_lambda: 0; tao: 1000: 0.988613533691345\n",
      "learning_rate: 0.05; mom_alpha: 0.6; reg_lambda: 0; tao: 500: 0.993428491003983\n",
      "learning_rate: 0.1; mom_alpha: 0.7; reg_lambda: 1e-05; tao: 500: 0.9956646923155134\n",
      "learning_rate: 0.1; mom_alpha: 0.6; reg_lambda: 1e-05; tao: 1000: 0.9972909197615266\n",
      "learning_rate: 0.08; mom_alpha: 0.6; reg_lambda: 1e-05; tao: 1000: 1.0440599060119364\n",
      "learning_rate: 0.04; mom_alpha: 0.6; reg_lambda: 0; tao: 500: 1.0472022186982393\n",
      "learning_rate: 0.1; mom_alpha: 0; reg_lambda: 0; tao: 500: 1.0602481977755365\n",
      "learning_rate: 0.1; mom_alpha: 0.6; reg_lambda: 1e-05; tao: 500: 1.0810602557481381\n",
      "learning_rate: 0.08; mom_alpha: 0.7; reg_lambda: 1e-05; tao: 500: 1.0826978288659763\n",
      "learning_rate: 0.02; mom_alpha: 0.6; reg_lambda: 0; tao: 1000: 1.0831408412370478\n",
      "learning_rate: 0.02; mom_alpha: 0.9; reg_lambda: 1e-05; tao: 1000: 1.083895605679079\n",
      "learning_rate: 0.05; mom_alpha: 0; reg_lambda: 0; tao: 1000: 1.0847433044302215\n",
      "learning_rate: 0.2; mom_alpha: 0; reg_lambda: 1e-05; tao: 1000: 1.0912597269925175\n",
      "learning_rate: 0.05; mom_alpha: 0.7; reg_lambda: 1e-05; tao: 1000: 1.1144580139699998\n",
      "learning_rate: 0.2; mom_alpha: 0; reg_lambda: 1e-05; tao: 500: 1.1237905143932\n",
      "learning_rate: 0.08; mom_alpha: 0.6; reg_lambda: 1e-05; tao: 500: 1.1459453626245466\n",
      "learning_rate: 0.08; mom_alpha: 0; reg_lambda: 0; tao: 500: 1.1496889651876139\n",
      "learning_rate: 0.04; mom_alpha: 0.7; reg_lambda: 1e-05; tao: 1000: 1.1589557375099155\n",
      "learning_rate: 0.04; mom_alpha: 0; reg_lambda: 0; tao: 1000: 1.1607353611137916\n",
      "learning_rate: 0.02; mom_alpha: 0.9; reg_lambda: 1e-05; tao: 500: 1.1839313754667031\n",
      "learning_rate: 0.05; mom_alpha: 0.6; reg_lambda: 1e-05; tao: 1000: 1.2123569941265164\n",
      "learning_rate: 0.02; mom_alpha: 0.7; reg_lambda: 0; tao: 500: 1.225275778467821\n",
      "learning_rate: 0.05; mom_alpha: 0.7; reg_lambda: 1e-05; tao: 500: 1.2271277737908204\n",
      "learning_rate: 0.04; mom_alpha: 0.7; reg_lambda: 1e-05; tao: 500: 1.2617218338863112\n",
      "learning_rate: 0.1; mom_alpha: 0; reg_lambda: 1e-05; tao: 1000: 1.293693222033213\n",
      "learning_rate: 0.05; mom_alpha: 0; reg_lambda: 0; tao: 500: 1.296143421537004\n",
      "learning_rate: 0.04; mom_alpha: 0.6; reg_lambda: 1e-05; tao: 1000: 1.3132577957145952\n",
      "learning_rate: 0.02; mom_alpha: 0.6; reg_lambda: 0; tao: 500: 1.3196587639180883\n",
      "learning_rate: 0.05; mom_alpha: 0.6; reg_lambda: 1e-05; tao: 500: 1.3419341880358302\n",
      "learning_rate: 0.08; mom_alpha: 0; reg_lambda: 1e-05; tao: 1000: 1.3703551832263212\n",
      "learning_rate: 0.04; mom_alpha: 0.6; reg_lambda: 1e-05; tao: 500: 1.4212220818133154\n",
      "learning_rate: 0.04; mom_alpha: 0; reg_lambda: 0; tao: 500: 1.4269006547703882\n",
      "learning_rate: 0.02; mom_alpha: 0; reg_lambda: 0; tao: 1000: 1.4340708444779355\n",
      "learning_rate: 0.1; mom_alpha: 0; reg_lambda: 1e-05; tao: 500: 1.4356056870328902\n",
      "learning_rate: 0.02; mom_alpha: 0.7; reg_lambda: 1e-05; tao: 1000: 1.4509194525212081\n",
      "learning_rate: 0.08; mom_alpha: 0; reg_lambda: 1e-05; tao: 500: 1.507435243247819\n",
      "learning_rate: 0.05; mom_alpha: 0; reg_lambda: 1e-05; tao: 1000: 1.562568578935394\n",
      "learning_rate: 0.02; mom_alpha: 0.6; reg_lambda: 1e-05; tao: 1000: 1.5748724194729047\n",
      "learning_rate: 0.02; mom_alpha: 0.7; reg_lambda: 1e-05; tao: 500: 1.638191188297022\n",
      "learning_rate: 0.04; mom_alpha: 0; reg_lambda: 1e-05; tao: 1000: 1.7110243545839876\n",
      "learning_rate: 0.05; mom_alpha: 0; reg_lambda: 1e-05; tao: 500: 1.7597184133244705\n",
      "learning_rate: 0.02; mom_alpha: 0.6; reg_lambda: 1e-05; tao: 500: 1.7716324624329893\n",
      "learning_rate: 0.02; mom_alpha: 0; reg_lambda: 0; tao: 500: 1.8230808369061093\n",
      "learning_rate: 0.04; mom_alpha: 0; reg_lambda: 1e-05; tao: 500: 1.8687569032136022\n",
      "learning_rate: 0.02; mom_alpha: 0; reg_lambda: 1e-05; tao: 1000: 2.1641122616657147\n",
      "learning_rate: 0.02; mom_alpha: 0; reg_lambda: 1e-05; tao: 500: 2.4637362923541124\n"
     ]
    }
   ],
   "source": [
    "results = get_all_results('ml_cup_second_grid_batch_64.json')\n",
    "print(f'total number of explored configs: {len(results)}')\n",
    "\n",
    "validation_mee_means = {model[0]: model[1]['validation_mee_mean'] for model in top_100_second_batch_64}\n",
    "\n",
    "for model_config, mee_mean in validation_mee_means.items():\n",
    "    print(f\"{model_config}: {mee_mean}\")"
   ]
  },
  {
   "cell_type": "code",
   "execution_count": 42,
   "metadata": {},
   "outputs": [],
   "source": [
    "save_top_plots(top_20, 'ml_cup_second_grid_batch_64', 'ml_cup_second_grid_batch_64_top_20')"
   ]
  },
  {
   "cell_type": "code",
   "execution_count": 39,
   "metadata": {},
   "outputs": [],
   "source": [
    "top_100_second_batch_1 = get_top_n_results('ml_cup_second_grid_batch_1.json', 100, 'validation_mee_mean', ascending=True)\n",
    "top_50_second_batch_1 = get_top_n_results('ml_cup_second_grid_batch_1.json', 50, 'validation_mee_mean', ascending=True)\n",
    "top_20_second_batch_1 = get_top_n_results('ml_cup_second_grid_batch_1.json', 20, 'validation_mee_mean', ascending=True)"
   ]
  },
  {
   "cell_type": "code",
   "execution_count": 40,
   "metadata": {},
   "outputs": [
    {
     "name": "stdout",
     "output_type": "stream",
     "text": [
      "total number of explored configs: 168\n",
      "learning_rate: 0.006; mom_alpha: 0.6; reg_lambda: 5e-05; tao: 1000: 0.5819151429699669\n",
      "learning_rate: 0.006; mom_alpha: 0.5; reg_lambda: 0; tao: 1000: 0.5832515290762237\n",
      "learning_rate: 0.008; mom_alpha: 0.5; reg_lambda: 0; tao: 1000: 0.5923547052125778\n",
      "learning_rate: 0.003; mom_alpha: 0.7; reg_lambda: 1e-05; tao: 1000: 0.6004877143204503\n",
      "learning_rate: 0.005; mom_alpha: 0.6; reg_lambda: 1e-05; tao: 1000: 0.6036657313571299\n",
      "learning_rate: 0.005; mom_alpha: 0.5; reg_lambda: 5e-05; tao: 1000: 0.6079996637864811\n",
      "learning_rate: 0.004; mom_alpha: 0.7; reg_lambda: 1e-05; tao: 1000: 0.6087637930057059\n",
      "learning_rate: 0.005; mom_alpha: 0.5; reg_lambda: 0; tao: 1000: 0.6099392365246453\n",
      "learning_rate: 0.007; mom_alpha: 0.5; reg_lambda: 1e-05; tao: 1000: 0.6107534529572654\n",
      "learning_rate: 0.005; mom_alpha: 0.7; reg_lambda: 1e-05; tao: 1000: 0.6111054554454085\n",
      "learning_rate: 0.006; mom_alpha: 0.5; reg_lambda: 5e-05; tao: 1000: 0.6113887322332971\n",
      "learning_rate: 0.003; mom_alpha: 0.6; reg_lambda: 0; tao: 1000: 0.6142113185110063\n",
      "learning_rate: 0.003; mom_alpha: 0.7; reg_lambda: 0; tao: 1000: 0.6143510131832667\n",
      "learning_rate: 0.003; mom_alpha: 0.7; reg_lambda: 5e-05; tao: 1000: 0.6148483029704567\n",
      "learning_rate: 0.008; mom_alpha: 0.5; reg_lambda: 0.0001; tao: 1000: 0.616592026091116\n",
      "learning_rate: 0.004; mom_alpha: 0.6; reg_lambda: 0; tao: 1000: 0.6213101015951165\n",
      "learning_rate: 0.005; mom_alpha: 0.6; reg_lambda: 5e-05; tao: 1000: 0.6233782784465318\n",
      "learning_rate: 0.005; mom_alpha: 0.6; reg_lambda: 0; tao: 1000: 0.6238026790738589\n",
      "learning_rate: 0.007; mom_alpha: 0.6; reg_lambda: 0.0001; tao: 1000: 0.624128400226556\n",
      "learning_rate: 0.004; mom_alpha: 0.7; reg_lambda: 0; tao: 500: 0.6253157262780256\n",
      "learning_rate: 0.006; mom_alpha: 0.5; reg_lambda: 1e-05; tao: 1000: 0.6253373964275983\n",
      "learning_rate: 0.006; mom_alpha: 0.7; reg_lambda: 0.0001; tao: 1000: 0.6268939102158598\n",
      "learning_rate: 0.004; mom_alpha: 0.7; reg_lambda: 0.0001; tao: 1000: 0.6297698908899306\n",
      "learning_rate: 0.005; mom_alpha: 0.5; reg_lambda: 1e-05; tao: 1000: 0.6307070929312368\n",
      "learning_rate: 0.007; mom_alpha: 0.5; reg_lambda: 0; tao: 1000: 0.632261544808309\n",
      "learning_rate: 0.006; mom_alpha: 0.6; reg_lambda: 1e-05; tao: 1000: 0.6326779818309187\n",
      "learning_rate: 0.007; mom_alpha: 0.5; reg_lambda: 5e-05; tao: 1000: 0.6329050765488571\n",
      "learning_rate: 0.005; mom_alpha: 0.7; reg_lambda: 0; tao: 1000: 0.6353966664962531\n",
      "learning_rate: 0.005; mom_alpha: 0.7; reg_lambda: 0.0001; tao: 1000: 0.6361355316205642\n",
      "learning_rate: 0.005; mom_alpha: 0.7; reg_lambda: 5e-05; tao: 1000: 0.6370260133041719\n",
      "learning_rate: 0.006; mom_alpha: 0.6; reg_lambda: 0; tao: 1000: 0.6370385356858244\n",
      "learning_rate: 0.002; mom_alpha: 0.7; reg_lambda: 1e-05; tao: 1000: 0.6371080640169767\n",
      "learning_rate: 0.007; mom_alpha: 0.6; reg_lambda: 1e-05; tao: 1000: 0.6371135190283905\n",
      "learning_rate: 0.002; mom_alpha: 0.7; reg_lambda: 0; tao: 1000: 0.6397118358718791\n",
      "learning_rate: 0.008; mom_alpha: 0.5; reg_lambda: 1e-05; tao: 1000: 0.640062543427378\n",
      "learning_rate: 0.004; mom_alpha: 0.7; reg_lambda: 5e-05; tao: 1000: 0.6407505214243885\n",
      "learning_rate: 0.004; mom_alpha: 0.7; reg_lambda: 1e-05; tao: 500: 0.6415624931613764\n",
      "learning_rate: 0.007; mom_alpha: 0.6; reg_lambda: 0; tao: 500: 0.6418117039261226\n",
      "learning_rate: 0.008; mom_alpha: 0.5; reg_lambda: 5e-05; tao: 1000: 0.6421058068673764\n",
      "learning_rate: 0.004; mom_alpha: 0.6; reg_lambda: 1e-05; tao: 1000: 0.6436530145225641\n",
      "learning_rate: 0.004; mom_alpha: 0.5; reg_lambda: 0; tao: 1000: 0.6440476468654258\n",
      "learning_rate: 0.003; mom_alpha: 0.7; reg_lambda: 0.0001; tao: 1000: 0.6453554098620637\n",
      "learning_rate: 0.006; mom_alpha: 0.5; reg_lambda: 0.0001; tao: 1000: 0.645848356653916\n",
      "learning_rate: 0.005; mom_alpha: 0.6; reg_lambda: 0.0001; tao: 1000: 0.6458623419508787\n",
      "learning_rate: 0.003; mom_alpha: 0.6; reg_lambda: 1e-05; tao: 1000: 0.6460189240755143\n",
      "learning_rate: 0.006; mom_alpha: 0.6; reg_lambda: 1e-05; tao: 500: 0.6460853133171138\n",
      "learning_rate: 0.008; mom_alpha: 0.5; reg_lambda: 0; tao: 500: 0.6472080113152247\n",
      "learning_rate: 0.004; mom_alpha: 0.7; reg_lambda: 0; tao: 1000: 0.6476579884676696\n",
      "learning_rate: 0.006; mom_alpha: 0.7; reg_lambda: 5e-05; tao: 1000: 0.6486653726939077\n",
      "learning_rate: 0.007; mom_alpha: 0.6; reg_lambda: 0; tao: 1000: 0.6496777720748976\n",
      "learning_rate: 0.006; mom_alpha: 0.6; reg_lambda: 0; tao: 500: 0.650341708125206\n",
      "learning_rate: 0.004; mom_alpha: 0.6; reg_lambda: 5e-05; tao: 1000: 0.6511354435913568\n",
      "learning_rate: 0.004; mom_alpha: 0.5; reg_lambda: 5e-05; tao: 1000: 0.6514790365957471\n",
      "learning_rate: 0.008; mom_alpha: 0.6; reg_lambda: 0.0001; tao: 1000: 0.6521397231037467\n",
      "learning_rate: 0.005; mom_alpha: 0.5; reg_lambda: 0.0001; tao: 1000: 0.6525572447661311\n",
      "learning_rate: 0.008; mom_alpha: 0.6; reg_lambda: 0; tao: 1000: 0.6533525140647375\n",
      "learning_rate: 0.003; mom_alpha: 0.6; reg_lambda: 5e-05; tao: 1000: 0.6535408814597871\n",
      "learning_rate: 0.008; mom_alpha: 0.6; reg_lambda: 1e-05; tao: 1000: 0.6536603688135711\n",
      "learning_rate: 0.008; mom_alpha: 0.5; reg_lambda: 1e-05; tao: 500: 0.6549578637742817\n",
      "learning_rate: 0.007; mom_alpha: 0.7; reg_lambda: 0.0001; tao: 1000: 0.6551630003750024\n",
      "learning_rate: 0.006; mom_alpha: 0.7; reg_lambda: 0.0001; tao: 500: 0.6559532767831466\n",
      "learning_rate: 0.003; mom_alpha: 0.6; reg_lambda: 0.0001; tao: 1000: 0.657054195394631\n",
      "learning_rate: 0.005; mom_alpha: 0.7; reg_lambda: 0.0001; tao: 500: 0.6593212967449371\n",
      "learning_rate: 0.005; mom_alpha: 0.5; reg_lambda: 0; tao: 500: 0.6600977316450678\n",
      "learning_rate: 0.003; mom_alpha: 0.5; reg_lambda: 0; tao: 1000: 0.6604405884436799\n",
      "learning_rate: 0.004; mom_alpha: 0.6; reg_lambda: 0.0001; tao: 1000: 0.6609056018362925\n",
      "learning_rate: 0.007; mom_alpha: 0.5; reg_lambda: 1e-05; tao: 500: 0.6611001883985358\n",
      "learning_rate: 0.005; mom_alpha: 0.5; reg_lambda: 1e-05; tao: 500: 0.6625867691486649\n",
      "learning_rate: 0.007; mom_alpha: 0.7; reg_lambda: 1e-05; tao: 1000: 0.6635431819329505\n",
      "learning_rate: 0.007; mom_alpha: 0.5; reg_lambda: 0; tao: 500: 0.6639495038129974\n",
      "learning_rate: 0.006; mom_alpha: 0.5; reg_lambda: 0; tao: 500: 0.664557658165483\n",
      "learning_rate: 0.008; mom_alpha: 0.5; reg_lambda: 0.0001; tao: 500: 0.6646195980649616\n",
      "learning_rate: 0.006; mom_alpha: 0.6; reg_lambda: 0.0001; tao: 1000: 0.6669148841945829\n",
      "learning_rate: 0.005; mom_alpha: 0.7; reg_lambda: 1e-05; tao: 500: 0.6673712136524724\n",
      "learning_rate: 0.007; mom_alpha: 0.5; reg_lambda: 0.0001; tao: 1000: 0.6687068566308287\n",
      "learning_rate: 0.006; mom_alpha: 0.5; reg_lambda: 1e-05; tao: 500: 0.6689977296188873\n",
      "learning_rate: 0.003; mom_alpha: 0.5; reg_lambda: 5e-05; tao: 1000: 0.6702136163268284\n",
      "learning_rate: 0.005; mom_alpha: 0.7; reg_lambda: 0; tao: 500: 0.6705425181385442\n",
      "learning_rate: 0.006; mom_alpha: 0.6; reg_lambda: 5e-05; tao: 500: 0.6709947412111295\n",
      "learning_rate: 0.004; mom_alpha: 0.5; reg_lambda: 1e-05; tao: 1000: 0.6714843042005704\n",
      "learning_rate: 0.005; mom_alpha: 0.6; reg_lambda: 1e-05; tao: 500: 0.67277154376695\n",
      "learning_rate: 0.004; mom_alpha: 0.6; reg_lambda: 5e-05; tao: 500: 0.6730561077348343\n",
      "learning_rate: 0.006; mom_alpha: 0.7; reg_lambda: 0; tao: 1000: 0.6739235085657429\n",
      "learning_rate: 0.002; mom_alpha: 0.7; reg_lambda: 5e-05; tao: 1000: 0.6740683345929946\n",
      "learning_rate: 0.003; mom_alpha: 0.5; reg_lambda: 1e-05; tao: 1000: 0.6742742047124614\n",
      "learning_rate: 0.004; mom_alpha: 0.6; reg_lambda: 0; tao: 500: 0.6747172340801113\n",
      "learning_rate: 0.008; mom_alpha: 0.6; reg_lambda: 5e-05; tao: 500: 0.6761806998182978\n",
      "learning_rate: 0.005; mom_alpha: 0.6; reg_lambda: 0; tao: 500: 0.6764951569934039\n",
      "learning_rate: 0.007; mom_alpha: 0.7; reg_lambda: 0; tao: 1000: 0.6775453213162319\n",
      "learning_rate: 0.008; mom_alpha: 0.6; reg_lambda: 1e-05; tao: 500: 0.6781481419909421\n",
      "learning_rate: 0.006; mom_alpha: 0.5; reg_lambda: 0.0001; tao: 500: 0.67829628080297\n",
      "learning_rate: 0.005; mom_alpha: 0.5; reg_lambda: 5e-05; tao: 500: 0.679018496232298\n",
      "learning_rate: 0.007; mom_alpha: 0.6; reg_lambda: 5e-05; tao: 1000: 0.6795886202650249\n",
      "learning_rate: 0.008; mom_alpha: 0.7; reg_lambda: 0.0001; tao: 500: 0.6796058238852342\n",
      "learning_rate: 0.008; mom_alpha: 0.7; reg_lambda: 5e-05; tao: 1000: 0.6804460879741343\n",
      "learning_rate: 0.005; mom_alpha: 0.6; reg_lambda: 0.0001; tao: 500: 0.6824704042660296\n",
      "learning_rate: 0.003; mom_alpha: 0.7; reg_lambda: 1e-05; tao: 500: 0.6830910640502263\n",
      "learning_rate: 0.006; mom_alpha: 0.6; reg_lambda: 0.0001; tao: 500: 0.6849292613288847\n",
      "learning_rate: 0.007; mom_alpha: 0.6; reg_lambda: 0.0001; tao: 500: 0.6855518337834884\n",
      "learning_rate: 0.006; mom_alpha: 0.7; reg_lambda: 1e-05; tao: 1000: 0.6869406461492088\n"
     ]
    }
   ],
   "source": [
    "results = get_all_results('ml_cup_second_grid_batch_1.json')\n",
    "print(f'total number of explored configs: {len(results)}')\n",
    "\n",
    "validation_mee_means = {model[0]: model[1]['validation_mee_mean'] for model in top_100_second_batch_1}\n",
    "\n",
    "for model_config, mee_mean in validation_mee_means.items():\n",
    "    print(f\"{model_config}: {mee_mean}\")"
   ]
  },
  {
   "cell_type": "markdown",
   "metadata": {},
   "source": [
    "### Try on the top model for the 64 batch_size version\n",
    "\n",
    "we plot on the internal test set (no operation is done with the internal test set, it's just a plot)"
   ]
  },
  {
   "cell_type": "code",
   "execution_count": 61,
   "metadata": {},
   "outputs": [
    {
     "data": {
      "text/plain": [
       "0.4677732569711591"
      ]
     },
     "execution_count": 61,
     "metadata": {},
     "output_type": "execute_result"
    }
   ],
   "source": [
    "net = NeuralNetwork(\n",
    "    n_output_units=3, \n",
    "    training_loss_type_value=LossFunction.MSE.value, \n",
    "    validation_loss_type_value=LossFunction.MSE.value, \n",
    "    evaluation_metric_type_value=Metrics.MEE.value,\n",
    "    activation_hidden_type_value=ActivationFunction.SIGMOID.value, \n",
    "    activation_output_type_value=ActivationFunction.IDENTITY.value, \n",
    "    classification=False, \n",
    "    early_stopping=False, \n",
    "    fast_stopping=False,\n",
    "    patience=20, \n",
    "    tolerance=0.1,\n",
    "    epochs=2000,\n",
    "    linear_decay=True,\n",
    "    batch_size=1,\n",
    "    hidden_layer_sizes=[128, 128],\n",
    "    nesterov=True,\n",
    "    learning_rate=0.006,\n",
    "    mom_alpha=0.6,\n",
    "    reg_lambda=0.00005,\n",
    "    tao=1000,\n",
    "    verbose=False\n",
    ")\n",
    "\n",
    "net.train_net(train_data=train_data, train_target=train_targets, val_data=test_data, val_target=test_targets, tr_loss_stopping_point=0.07113932071043247)\n",
    "net.predict_and_evaluate(test_data, test_targets, Metrics.MEE.value)"
   ]
  },
  {
   "cell_type": "code",
   "execution_count": 64,
   "metadata": {},
   "outputs": [
    {
     "data": {
      "image/png": "[encoded data removed]",
      "text/plain": [
       "<Figure size 400x400 with 1 Axes>"
      ]
     },
     "metadata": {},
     "output_type": "display_data"
    },
    {
     "data": {
      "image/png": "[encoded data removed]",
      "text/plain": [
       "<Figure size 400x400 with 1 Axes>"
      ]
     },
     "metadata": {},
     "output_type": "display_data"
    }
   ],
   "source": [
    "plot_over_epochs(y_values=net.training_losses, title='loss over epochs', y_label='mse', y_legend='training set', y_prime_values=net.validation_losses, y_prime_legend='test set', yscale='log')\n",
    "plot_over_epochs(y_values=net.training_evaluations, title='score over epochs', y_label='mee', y_legend='training set', y_prime_values=net.validation_evaluations, y_prime_legend='test set', yscale='log')"
   ]
  },
  {
   "cell_type": "markdown",
   "metadata": {},
   "source": [
    "## Ensemble\n",
    "\n",
    "After picking the best 10 performing models, we decided to build an ensamble in order to improve performance.\n",
    "\n",
    "Note: we won't train the models using early stopping right now. We will use more data to train the models and use the training loss mean of the best epoch (w.r.t. the internal valiation loss) obtained during the kfold cv in the grid process."
   ]
  },
  {
   "cell_type": "code",
   "execution_count": 4,
   "metadata": {},
   "outputs": [],
   "source": [
    "# get top 10 results from both batches grids\n",
    "top_10_second_batch_1 = get_top_n_results('ml_cup_second_grid_batch_1.json', 10, 'validation_mee_mean', ascending=True)\n",
    "top_10_second_batch_64 = get_top_n_results('ml_cup_second_grid_batch_64.json', 10, 'validation_mee_mean', ascending=True)\n",
    "\n",
    "# merge them together and sort by validation_mee_mean\n",
    "merged_data = top_10_second_batch_1 + top_10_second_batch_64\n",
    "sorted_data = sorted(merged_data, key=lambda x: x[1]['validation_mee_mean'])\n",
    "\n",
    "# get the final top 10 results\n",
    "top_10_models_results = sorted_data[:10]\n",
    "\n",
    "# get the stopping point for training the retrained model over the entire development dataset\n",
    "tr_stopping_points = [results[1]['tr_losses_mean'] for results in top_10_models_results]\n",
    "\n",
    "# get the top 10 models configurations\n",
    "list_models = get_list_models(top_10_models_results)"
   ]
  },
  {
   "cell_type": "markdown",
   "metadata": {},
   "source": [
    "first we execute a kfold over the ensemble (and over each constituent model)"
   ]
  },
  {
   "cell_type": "code",
   "execution_count": 5,
   "metadata": {},
   "outputs": [],
   "source": [
    "fixed_params = dict(\n",
    "    n_output_units=3, \n",
    "    training_loss_type_value=LossFunction.MSE.value, \n",
    "    validation_loss_type_value=LossFunction.MSE.value, \n",
    "    evaluation_metric_type_value=Metrics.MEE.value,\n",
    "    activation_hidden_type_value=ActivationFunction.SIGMOID.value, \n",
    "    activation_output_type_value=ActivationFunction.IDENTITY.value, \n",
    "    epochs=2000, \n",
    "    nesterov=False, \n",
    "    classification=False, \n",
    "    early_stopping=False, \n",
    "    fast_stopping=False,\n",
    "    linear_decay=True,\n",
    "    patience=20, \n",
    "    tolerance=0.1,\n",
    "    hidden_layer_sizes=[128, 128],\n",
    "    verbose=False\n",
    ")\n",
    "\n",
    "# build ensemble\n",
    "models = []\n",
    "for index, model in enumerate(list_models):\n",
    "    params = {**fixed_params, **model}\n",
    "    models.append(NeuralNetwork(**fixed_params, **model))\n",
    "ensemble = Ensemble(models)\n",
    "\n",
    "# cross-validation on ensemble\n",
    "kfold_model_result, kfold_ensemble_result = kfold_cv_ensemble(5, train_data, train_targets, [Metrics.MSE.value, Metrics.MEE.value], ensemble, tr_stopping_points=tr_stopping_points, verbose=False)\n",
    "\n",
    "with open('json_results/ensemble_top_10.json', 'w', encoding='utf-8') as f:\n",
    "    json.dump({**kfold_model_result, **kfold_ensemble_result}, f, indent=4)"
   ]
  },
  {
   "cell_type": "markdown",
   "metadata": {},
   "source": [
    "## Model Selection and Model Assessment"
   ]
  },
  {
   "cell_type": "markdown",
   "metadata": {},
   "source": [
    "Results on the kfold cross validation has shown that the best performing model is indeed the ensemble of the top 10 models. Thus we now retrain the model on the entire internal training set"
   ]
  },
  {
   "cell_type": "code",
   "execution_count": 6,
   "metadata": {},
   "outputs": [],
   "source": [
    "fixed_params = dict(\n",
    "    n_output_units=3, \n",
    "    training_loss_type_value=LossFunction.MSE.value, \n",
    "    validation_loss_type_value=LossFunction.MSE.value, \n",
    "    evaluation_metric_type_value=Metrics.MEE.value,\n",
    "    activation_hidden_type_value=ActivationFunction.SIGMOID.value, \n",
    "    activation_output_type_value=ActivationFunction.IDENTITY.value, \n",
    "    epochs=2000, \n",
    "    nesterov=False, \n",
    "    classification=False, \n",
    "    early_stopping=False, \n",
    "    fast_stopping=False,\n",
    "    linear_decay=True,\n",
    "    patience=20, \n",
    "    tolerance=0.1,\n",
    "    hidden_layer_sizes=[128, 128],\n",
    "    verbose=False\n",
    ")\n",
    "\n",
    "# build ensemble\n",
    "models = []\n",
    "for index, model in enumerate(list_models):\n",
    "    params = {**fixed_params, **model}\n",
    "    models.append(NeuralNetwork(**fixed_params, **model))\n",
    "ensemble = Ensemble(models)\n",
    "\n",
    "# train ensemble on the entire development dataset\n",
    "ensemble.train(train_data, train_targets, test_data, test_targets, tr_stopping_points=tr_stopping_points)\n",
    "\n",
    "# evaluate ensemble on the test set and save results\n",
    "results = {}\n",
    "for index, model in enumerate(ensemble.models):\n",
    "    y_pred = model.predict(test_data)\n",
    "    results[f\"model_{index+1}\"] = evaluate(y_pred, test_targets, Metrics.MEE.value)\n",
    "    \n",
    "y_pred = ensemble.predict(test_data)\n",
    "results[\"ensemble\"] = evaluate(y_pred, test_targets, Metrics.MEE.value)\n",
    "\n",
    "with open('json_results/ensemble_top_10_test_results.json', 'w', encoding='utf-8') as f:\n",
    "    json.dump(results, f, indent=4) \n"
   ]
  },
  {
   "cell_type": "markdown",
   "metadata": {},
   "source": [
    "Now we will proceede with the model assessment by training and testing over the internal test set multiple times, to then average the results (in order to achieve a less biased result)"
   ]
  },
  {
   "cell_type": "code",
   "execution_count": 7,
   "metadata": {},
   "outputs": [],
   "source": [
    "fixed_params = dict(\n",
    "    n_output_units=3, \n",
    "    training_loss_type_value=LossFunction.MSE.value, \n",
    "    validation_loss_type_value=LossFunction.MSE.value, \n",
    "    evaluation_metric_type_value=Metrics.MEE.value,\n",
    "    activation_hidden_type_value=ActivationFunction.SIGMOID.value, \n",
    "    activation_output_type_value=ActivationFunction.IDENTITY.value, \n",
    "    epochs=2000, \n",
    "    nesterov=False, \n",
    "    classification=False, \n",
    "    early_stopping=False, \n",
    "    fast_stopping=False,\n",
    "    linear_decay=True,\n",
    "    patience=20, \n",
    "    tolerance=0.1,\n",
    "    hidden_layer_sizes=[128, 128],\n",
    "    verbose=False\n",
    ")\n",
    "\n",
    "results = []\n",
    "\n",
    "for i in range(5):\n",
    "    # build ensemble\n",
    "    models = []\n",
    "    for index, model in enumerate(list_models):\n",
    "        params = {**fixed_params, **model}\n",
    "        models.append(NeuralNetwork(**fixed_params, **model))\n",
    "    ensemble = Ensemble(models)\n",
    "\n",
    "    # train ensemble on the entire development dataset\n",
    "    ensemble.train(train_data, train_targets, test_data, test_targets, tr_stopping_points=tr_stopping_points)\n",
    "\n",
    "        \n",
    "    y_pred = ensemble.predict(test_data)\n",
    "    results.append(evaluate(y_pred, test_targets, Metrics.MEE.value))\n",
    "\n",
    "model_assessment = {}\n",
    "model_assessment['test_results'] = results\n",
    "model_assessment['test_mean'] = np.mean(results)\n",
    "model_assessment['test_std'] = np.std(results)\n",
    "\n",
    "with open('json_results/ensemble_top_10_model_assessment.json', 'w', encoding='utf-8') as f:\n",
    "    json.dump(model_assessment, f, indent=4)"
   ]
  },
  {
   "cell_type": "markdown",
   "metadata": {},
   "source": [
    "## Retraining the chosen model on the entire training set"
   ]
  },
  {
   "cell_type": "markdown",
   "metadata": {},
   "source": [
    "Now that we assessed the model performance, we can retrain the model using the entire training set.\n",
    "\n",
    "Note: we use the mean training loss obtained at the best epoch (w.r.t. the validation loss) as stopping criteria for the training. In this way we assure that the same level of fitting is achieved."
   ]
  },
  {
   "cell_type": "code",
   "execution_count": null,
   "metadata": {},
   "outputs": [],
   "source": [
    "data, targets = read_cup('datasets/cup/CUP_TR.csv')"
   ]
  },
  {
   "cell_type": "code",
   "execution_count": null,
   "metadata": {},
   "outputs": [],
   "source": [
    "fixed_params = dict(\n",
    "    n_output_units=3, \n",
    "    training_loss_type_value=LossFunction.MSE.value, \n",
    "    validation_loss_type_value=LossFunction.MSE.value, \n",
    "    evaluation_metric_type_value=Metrics.MEE.value,\n",
    "    activation_hidden_type_value=ActivationFunction.SIGMOID.value, \n",
    "    activation_output_type_value=ActivationFunction.IDENTITY.value, \n",
    "    epochs=2000, \n",
    "    nesterov=False, \n",
    "    classification=False, \n",
    "    early_stopping=False, \n",
    "    fast_stopping=False,\n",
    "    linear_decay=True,\n",
    "    patience=20, \n",
    "    tolerance=0.1,\n",
    "    hidden_layer_sizes=[128, 128],\n",
    "    verbose=False\n",
    ")\n",
    "\n",
    "models = []\n",
    "for index, model in enumerate(list_models):\n",
    "    params = {**fixed_params, **model}\n",
    "    models.append(NeuralNetwork(**fixed_params, **model))\n",
    "ensemble = Ensemble(models)\n",
    "\n",
    "# train ensemble on the entire development dataset\n",
    "ensemble.train(data, targets, None, None, tr_stopping_points=tr_stopping_points)"
   ]
  }
 ],
 "metadata": {
  "kernelspec": {
   "display_name": "ml",
   "language": "python",
   "name": "python3"
  },
  "language_info": {
   "codemirror_mode": {
    "name": "ipython",
    "version": 3
   },
   "file_extension": ".py",
   "mimetype": "text/x-python",
   "name": "python",
   "nbconvert_exporter": "python",
   "pygments_lexer": "ipython3",
   "version": "3.8.18"
  }
 },
 "nbformat": 4,
 "nbformat_minor": 2
}
