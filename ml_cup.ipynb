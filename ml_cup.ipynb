{
 "cells": [
  {
   "cell_type": "code",
   "execution_count": 1,
   "metadata": {},
   "outputs": [],
   "source": [
    "from neural_network import NeuralNetwork\n",
    "from neural_network_utility import evaluate\n",
    "from math_functions.function_enums import LossFunction, ActivationFunction, Metrics\n",
    "from dataset_reader import read_monk, read_cup, read_old_cup\n",
    "from validation import kfold_cv, holdout, kfold_cv_ensemble\n",
    "from grid import grid_search, get_top_n_results, get_all_results\n",
    "from sklearn.utils import shuffle\n",
    "from utils import count_configs, save_top_plots, get_list_models, plot_over_epochs\n",
    "from ensemble import Ensemble\n",
    "import numpy as np\n",
    "import json"
   ]
  },
  {
   "cell_type": "markdown",
   "metadata": {},
   "source": [
    "# Hyperparameter tuning"
   ]
  },
  {
   "cell_type": "markdown",
   "metadata": {},
   "source": [
    "## Save training data and internal test data"
   ]
  },
  {
   "cell_type": "code",
   "execution_count": null,
   "metadata": {},
   "outputs": [],
   "source": [
    "# data, targets = read_cup('datasets/cup/CUP_TR.csv')\n",
    "# train_data, test_data, train_targets, test_targets = holdout(data, targets, 0.8, shuffle_set=True)\n",
    "\n",
    "# np.savetxt(MODEL_SEL_DATA_PATH, train_data, delimiter=',')\n",
    "# np.savetxt(MODEL_SEL_TARGETS_PATH, train_targets, delimiter=',')\n",
    "# np.savetxt(MODEL_ASSESS_DATA_PATH, test_data, delimiter=',')\n",
    "# np.savetxt(MODEL_ASSESS_TARGETS_PATH, test_targets, delimiter=',')"
   ]
  },
  {
   "cell_type": "markdown",
   "metadata": {},
   "source": [
    "## Load training data and internal test data"
   ]
  },
  {
   "cell_type": "code",
   "execution_count": 2,
   "metadata": {},
   "outputs": [],
   "source": [
    "MODEL_SEL_DATA_PATH = 'datasets/cup/grid_search/CUP_model_selection_data.csv'\n",
    "MODEL_SEL_TARGETS_PATH = 'datasets/cup/grid_search/CUP_model_selection_targets.csv'\n",
    "MODEL_ASSESS_DATA_PATH = 'datasets/cup/grid_search/CUP_model_assessment_data.csv'\n",
    "MODEL_ASSESS_TARGETS_PATH = 'datasets/cup/grid_search/CUP_model_assessment_targets.csv'"
   ]
  },
  {
   "cell_type": "code",
   "execution_count": 3,
   "metadata": {},
   "outputs": [],
   "source": [
    "train_data = np.loadtxt(MODEL_SEL_DATA_PATH, delimiter=',')\n",
    "train_targets = np.loadtxt(MODEL_SEL_TARGETS_PATH, delimiter=',')\n",
    "test_data = np.loadtxt(MODEL_ASSESS_DATA_PATH, delimiter=',')\n",
    "test_targets = np.loadtxt(MODEL_ASSESS_TARGETS_PATH, delimiter=',')"
   ]
  },
  {
   "cell_type": "code",
   "execution_count": 4,
   "metadata": {},
   "outputs": [
    {
     "name": "stderr",
     "output_type": "stream",
     "text": [
      "100%|██████████| 768/768 [8:52:35<00:00, 41.61s/it]  \n"
     ]
    }
   ],
   "source": [
    "fixed_params = dict(\n",
    "    n_output_units=3, \n",
    "    training_loss_type_value=LossFunction.MSE.value, \n",
    "    validation_loss_type_value=LossFunction.MSE.value, \n",
    "    evaluation_metric_type_value=Metrics.MEE.value,\n",
    "    activation_hidden_type_value=ActivationFunction.SIGMOID.value, \n",
    "    activation_output_type_value=ActivationFunction.IDENTITY.value, \n",
    "    classification=False, \n",
    "    early_stopping=True, \n",
    "    fast_stopping=False,\n",
    "    patience=20, \n",
    "    tolerance=0.1,\n",
    "    epochs=500,\n",
    "    linear_decay=True,\n",
    "    verbose=False,\n",
    ")\n",
    "\n",
    "grid_params = dict(\n",
    "    batch_size=[64],\n",
    "    hidden_layer_sizes=[[64, 32], [128, 64], [128, 128], [64, 64, 32]],\n",
    "    learning_rate=[0.0005, 0.005, 0.05, 0.1],\n",
    "    mom_alpha=[0, 0.6, 0.7, 0.9],\n",
    "    reg_lambda=[0, 0.0001, 0.00001],\n",
    "    nesterov=[True, False],\n",
    "    tao=[200, 500]\n",
    ")\n",
    "\n",
    "results = grid_search(\n",
    "    k_folds=3, \n",
    "    data=train_data, \n",
    "    target=train_targets, \n",
    "    metrics=[Metrics.MSE.value, Metrics.MEE.value], \n",
    "    fixed_param=fixed_params, \n",
    "    grid_param=grid_params, \n",
    "    file_name_results=\"ml_cup_first_grid\", \n",
    "    verbose=False,\n",
    "    plot=True,\n",
    "    log_scale=True\n",
    ")"
   ]
  },
  {
   "cell_type": "code",
   "execution_count": 16,
   "metadata": {},
   "outputs": [],
   "source": [
    "top_100 = get_top_n_results('ml_cup_first_grid.json', 100, 'validation_mee_mean', ascending=True)\n",
    "top_50 = get_top_n_results('ml_cup_first_grid.json', 50, 'validation_mee_mean', ascending=True)\n",
    "top_20 = get_top_n_results('ml_cup_first_grid.json', 20, 'validation_mee_mean', ascending=True)"
   ]
  },
  {
   "cell_type": "code",
   "execution_count": 19,
   "metadata": {},
   "outputs": [
    {
     "name": "stdout",
     "output_type": "stream",
     "text": [
      "total number of explored configs: 768\n",
      "batch_size: 64; hidden_layer_sizes: [128, 128]; learning_rate: 0.1; mom_alpha: 0.9; reg_lambda: 0; nesterov: False; tao: 500: 0.7154765680987968\n",
      "batch_size: 64; hidden_layer_sizes: [128, 64]; learning_rate: 0.1; mom_alpha: 0.9; reg_lambda: 0; nesterov: True; tao: 500: 0.7617515470224704\n",
      "batch_size: 64; hidden_layer_sizes: [128, 64]; learning_rate: 0.05; mom_alpha: 0.9; reg_lambda: 0; nesterov: False; tao: 500: 0.775287601192836\n",
      "batch_size: 64; hidden_layer_sizes: [128, 64]; learning_rate: 0.1; mom_alpha: 0.9; reg_lambda: 0; nesterov: False; tao: 500: 0.7802537021435517\n",
      "batch_size: 64; hidden_layer_sizes: [128, 128]; learning_rate: 0.1; mom_alpha: 0.9; reg_lambda: 0; nesterov: True; tao: 500: 0.8025707319872527\n",
      "batch_size: 64; hidden_layer_sizes: [128, 128]; learning_rate: 0.05; mom_alpha: 0.9; reg_lambda: 0; nesterov: True; tao: 500: 0.8028411752947933\n",
      "batch_size: 64; hidden_layer_sizes: [128, 128]; learning_rate: 0.1; mom_alpha: 0.9; reg_lambda: 0; nesterov: True; tao: 200: 0.8155806793178879\n",
      "batch_size: 64; hidden_layer_sizes: [64, 64, 32]; learning_rate: 0.05; mom_alpha: 0.9; reg_lambda: 0; nesterov: True; tao: 500: 0.8170324003222172\n",
      "batch_size: 64; hidden_layer_sizes: [128, 64]; learning_rate: 0.05; mom_alpha: 0.9; reg_lambda: 0; nesterov: True; tao: 500: 0.8211345312144522\n",
      "batch_size: 64; hidden_layer_sizes: [128, 128]; learning_rate: 0.1; mom_alpha: 0.9; reg_lambda: 1e-05; nesterov: False; tao: 500: 0.8258797633421059\n",
      "batch_size: 64; hidden_layer_sizes: [64, 32]; learning_rate: 0.05; mom_alpha: 0.9; reg_lambda: 0; nesterov: False; tao: 500: 0.8284263975623012\n",
      "batch_size: 64; hidden_layer_sizes: [64, 64, 32]; learning_rate: 0.05; mom_alpha: 0.9; reg_lambda: 0; nesterov: False; tao: 500: 0.8291169592936424\n",
      "batch_size: 64; hidden_layer_sizes: [128, 128]; learning_rate: 0.05; mom_alpha: 0.9; reg_lambda: 0; nesterov: False; tao: 500: 0.8292840103769793\n",
      "batch_size: 64; hidden_layer_sizes: [128, 128]; learning_rate: 0.1; mom_alpha: 0.9; reg_lambda: 0; nesterov: False; tao: 200: 0.8337438429336981\n",
      "batch_size: 64; hidden_layer_sizes: [128, 64]; learning_rate: 0.1; mom_alpha: 0.9; reg_lambda: 0; nesterov: True; tao: 200: 0.835466159241105\n",
      "batch_size: 64; hidden_layer_sizes: [128, 64]; learning_rate: 0.1; mom_alpha: 0.7; reg_lambda: 0; nesterov: False; tao: 500: 0.8391611154868892\n",
      "batch_size: 64; hidden_layer_sizes: [64, 64, 32]; learning_rate: 0.1; mom_alpha: 0.6; reg_lambda: 0; nesterov: True; tao: 500: 0.8425896210690388\n",
      "batch_size: 64; hidden_layer_sizes: [128, 128]; learning_rate: 0.1; mom_alpha: 0.7; reg_lambda: 0; nesterov: False; tao: 500: 0.8442659603607786\n",
      "batch_size: 64; hidden_layer_sizes: [64, 32]; learning_rate: 0.1; mom_alpha: 0.9; reg_lambda: 0; nesterov: False; tao: 500: 0.844582014049216\n",
      "batch_size: 64; hidden_layer_sizes: [64, 64, 32]; learning_rate: 0.1; mom_alpha: 0.7; reg_lambda: 0; nesterov: True; tao: 500: 0.8457914023041869\n",
      "batch_size: 64; hidden_layer_sizes: [64, 32]; learning_rate: 0.1; mom_alpha: 0.7; reg_lambda: 0; nesterov: True; tao: 500: 0.8485166563413565\n",
      "batch_size: 64; hidden_layer_sizes: [64, 32]; learning_rate: 0.05; mom_alpha: 0.9; reg_lambda: 0; nesterov: True; tao: 500: 0.8494622548928312\n",
      "batch_size: 64; hidden_layer_sizes: [128, 128]; learning_rate: 0.1; mom_alpha: 0.9; reg_lambda: 1e-05; nesterov: True; tao: 500: 0.8507233534179234\n",
      "batch_size: 64; hidden_layer_sizes: [128, 128]; learning_rate: 0.1; mom_alpha: 0.7; reg_lambda: 0; nesterov: True; tao: 500: 0.851683542116653\n",
      "batch_size: 64; hidden_layer_sizes: [64, 64, 32]; learning_rate: 0.1; mom_alpha: 0.9; reg_lambda: 1e-05; nesterov: True; tao: 500: 0.8575352518932027\n",
      "batch_size: 64; hidden_layer_sizes: [64, 32]; learning_rate: 0.1; mom_alpha: 0.9; reg_lambda: 0; nesterov: True; tao: 500: 0.8579958164786857\n",
      "batch_size: 64; hidden_layer_sizes: [128, 64]; learning_rate: 0.1; mom_alpha: 0.7; reg_lambda: 0; nesterov: True; tao: 500: 0.8597648195659128\n",
      "batch_size: 64; hidden_layer_sizes: [64, 32]; learning_rate: 0.1; mom_alpha: 0.9; reg_lambda: 1e-05; nesterov: False; tao: 500: 0.8675571081053213\n",
      "batch_size: 64; hidden_layer_sizes: [64, 32]; learning_rate: 0.1; mom_alpha: 0.9; reg_lambda: 1e-05; nesterov: True; tao: 500: 0.8677717245781089\n",
      "batch_size: 64; hidden_layer_sizes: [128, 64]; learning_rate: 0.1; mom_alpha: 0.9; reg_lambda: 1e-05; nesterov: True; tao: 500: 0.87046680558873\n",
      "batch_size: 64; hidden_layer_sizes: [128, 64]; learning_rate: 0.1; mom_alpha: 0.6; reg_lambda: 0; nesterov: False; tao: 500: 0.878879512653182\n",
      "batch_size: 64; hidden_layer_sizes: [128, 64]; learning_rate: 0.1; mom_alpha: 0.9; reg_lambda: 1e-05; nesterov: False; tao: 500: 0.8823300815775962\n",
      "batch_size: 64; hidden_layer_sizes: [64, 32]; learning_rate: 0.1; mom_alpha: 0.6; reg_lambda: 0; nesterov: True; tao: 500: 0.893270781095604\n",
      "batch_size: 64; hidden_layer_sizes: [64, 64, 32]; learning_rate: 0.1; mom_alpha: 0.7; reg_lambda: 0; nesterov: False; tao: 500: 0.9009068239659176\n",
      "batch_size: 64; hidden_layer_sizes: [128, 64]; learning_rate: 0.1; mom_alpha: 0.6; reg_lambda: 0; nesterov: True; tao: 500: 0.901126708154464\n",
      "batch_size: 64; hidden_layer_sizes: [64, 64, 32]; learning_rate: 0.1; mom_alpha: 0.6; reg_lambda: 0; nesterov: False; tao: 500: 0.9028351505439475\n",
      "batch_size: 64; hidden_layer_sizes: [64, 64, 32]; learning_rate: 0.1; mom_alpha: 0.9; reg_lambda: 1e-05; nesterov: False; tao: 500: 0.9069567258237332\n",
      "batch_size: 64; hidden_layer_sizes: [64, 32]; learning_rate: 0.1; mom_alpha: 0.7; reg_lambda: 0; nesterov: False; tao: 500: 0.9083027690746847\n",
      "batch_size: 64; hidden_layer_sizes: [64, 64, 32]; learning_rate: 0.05; mom_alpha: 0.9; reg_lambda: 0; nesterov: True; tao: 200: 0.9098248861930553\n",
      "batch_size: 64; hidden_layer_sizes: [64, 32]; learning_rate: 0.1; mom_alpha: 0.6; reg_lambda: 0; nesterov: False; tao: 500: 0.9134536828731696\n",
      "batch_size: 64; hidden_layer_sizes: [64, 64, 32]; learning_rate: 0.05; mom_alpha: 0.9; reg_lambda: 0; nesterov: False; tao: 200: 0.9182649567429387\n",
      "batch_size: 64; hidden_layer_sizes: [128, 64]; learning_rate: 0.1; mom_alpha: 0.9; reg_lambda: 1e-05; nesterov: False; tao: 200: 0.9210074066929765\n",
      "batch_size: 64; hidden_layer_sizes: [128, 128]; learning_rate: 0.1; mom_alpha: 0.6; reg_lambda: 0; nesterov: False; tao: 500: 0.9220054142714482\n",
      "batch_size: 64; hidden_layer_sizes: [128, 64]; learning_rate: 0.1; mom_alpha: 0.9; reg_lambda: 1e-05; nesterov: True; tao: 200: 0.9301980366457734\n",
      "batch_size: 64; hidden_layer_sizes: [128, 128]; learning_rate: 0.1; mom_alpha: 0.9; reg_lambda: 1e-05; nesterov: False; tao: 200: 0.9357009817621836\n",
      "batch_size: 64; hidden_layer_sizes: [128, 64]; learning_rate: 0.1; mom_alpha: 0.9; reg_lambda: 0; nesterov: False; tao: 200: 0.9377394502217314\n",
      "batch_size: 64; hidden_layer_sizes: [128, 64]; learning_rate: 0.05; mom_alpha: 0.9; reg_lambda: 0; nesterov: True; tao: 200: 0.937955916810521\n",
      "batch_size: 64; hidden_layer_sizes: [128, 128]; learning_rate: 0.1; mom_alpha: 0.6; reg_lambda: 0; nesterov: True; tao: 500: 0.9422633826057553\n",
      "batch_size: 64; hidden_layer_sizes: [64, 32]; learning_rate: 0.1; mom_alpha: 0.9; reg_lambda: 0; nesterov: False; tao: 200: 0.9449866149495092\n",
      "batch_size: 64; hidden_layer_sizes: [64, 64, 32]; learning_rate: 0.1; mom_alpha: 0.7; reg_lambda: 0; nesterov: False; tao: 200: 0.9458300698692321\n",
      "batch_size: 64; hidden_layer_sizes: [128, 128]; learning_rate: 0.1; mom_alpha: 0.9; reg_lambda: 1e-05; nesterov: True; tao: 200: 0.9518100472035314\n",
      "batch_size: 64; hidden_layer_sizes: [128, 64]; learning_rate: 0.05; mom_alpha: 0.9; reg_lambda: 1e-05; nesterov: False; tao: 500: 0.9533037045534446\n",
      "batch_size: 64; hidden_layer_sizes: [128, 128]; learning_rate: 0.05; mom_alpha: 0.9; reg_lambda: 0; nesterov: True; tao: 200: 0.9569626740751804\n",
      "batch_size: 64; hidden_layer_sizes: [64, 32]; learning_rate: 0.05; mom_alpha: 0.9; reg_lambda: 0; nesterov: True; tao: 200: 0.959774924505794\n",
      "batch_size: 64; hidden_layer_sizes: [128, 128]; learning_rate: 0.05; mom_alpha: 0.9; reg_lambda: 1e-05; nesterov: False; tao: 500: 0.9685790981965371\n",
      "batch_size: 64; hidden_layer_sizes: [64, 64, 32]; learning_rate: 0.05; mom_alpha: 0.9; reg_lambda: 1e-05; nesterov: False; tao: 500: 0.9690472625422295\n",
      "batch_size: 64; hidden_layer_sizes: [64, 64, 32]; learning_rate: 0.1; mom_alpha: 0.7; reg_lambda: 0; nesterov: True; tao: 200: 0.9701215090998234\n",
      "batch_size: 64; hidden_layer_sizes: [64, 32]; learning_rate: 0.1; mom_alpha: 0.9; reg_lambda: 1e-05; nesterov: True; tao: 200: 0.976619964830517\n",
      "batch_size: 64; hidden_layer_sizes: [64, 32]; learning_rate: 0.1; mom_alpha: 0.9; reg_lambda: 0; nesterov: True; tao: 200: 0.9792246988888434\n",
      "batch_size: 64; hidden_layer_sizes: [64, 64, 32]; learning_rate: 0.1; mom_alpha: 0.9; reg_lambda: 1e-05; nesterov: True; tao: 200: 0.983163732271071\n",
      "batch_size: 64; hidden_layer_sizes: [64, 32]; learning_rate: 0.05; mom_alpha: 0.9; reg_lambda: 1e-05; nesterov: True; tao: 500: 0.9837699236271126\n",
      "batch_size: 64; hidden_layer_sizes: [128, 128]; learning_rate: 0.05; mom_alpha: 0.9; reg_lambda: 0; nesterov: False; tao: 200: 0.9842766684572682\n",
      "batch_size: 64; hidden_layer_sizes: [128, 64]; learning_rate: 0.05; mom_alpha: 0.9; reg_lambda: 1e-05; nesterov: True; tao: 500: 0.9896152039959581\n",
      "batch_size: 64; hidden_layer_sizes: [128, 64]; learning_rate: 0.05; mom_alpha: 0.9; reg_lambda: 0; nesterov: False; tao: 200: 0.9897519864933085\n",
      "batch_size: 64; hidden_layer_sizes: [64, 64, 32]; learning_rate: 0.05; mom_alpha: 0.7; reg_lambda: 0; nesterov: False; tao: 500: 0.9956958903121175\n",
      "batch_size: 64; hidden_layer_sizes: [128, 128]; learning_rate: 0.05; mom_alpha: 0.7; reg_lambda: 0; nesterov: False; tao: 500: 0.9970380764440042\n",
      "batch_size: 64; hidden_layer_sizes: [64, 32]; learning_rate: 0.05; mom_alpha: 0.7; reg_lambda: 0; nesterov: True; tao: 500: 0.9981232110098369\n",
      "batch_size: 64; hidden_layer_sizes: [64, 64, 32]; learning_rate: 0.05; mom_alpha: 0.9; reg_lambda: 1e-05; nesterov: True; tao: 500: 1.0007901645062487\n",
      "batch_size: 64; hidden_layer_sizes: [128, 128]; learning_rate: 0.05; mom_alpha: 0.9; reg_lambda: 1e-05; nesterov: True; tao: 500: 1.0033433412488544\n",
      "batch_size: 64; hidden_layer_sizes: [64, 64, 32]; learning_rate: 0.05; mom_alpha: 0.7; reg_lambda: 0; nesterov: True; tao: 500: 1.0074516036645158\n",
      "batch_size: 64; hidden_layer_sizes: [128, 64]; learning_rate: 0.05; mom_alpha: 0.7; reg_lambda: 0; nesterov: False; tao: 500: 1.0090880204284074\n",
      "batch_size: 64; hidden_layer_sizes: [64, 32]; learning_rate: 0.05; mom_alpha: 0.9; reg_lambda: 1e-05; nesterov: False; tao: 500: 1.0099870817459724\n",
      "batch_size: 64; hidden_layer_sizes: [128, 128]; learning_rate: 0.05; mom_alpha: 0.7; reg_lambda: 0; nesterov: True; tao: 500: 1.01758968110158\n",
      "batch_size: 64; hidden_layer_sizes: [64, 64, 32]; learning_rate: 0.1; mom_alpha: 0.9; reg_lambda: 0; nesterov: True; tao: 200: 1.0211178865530364\n",
      "batch_size: 64; hidden_layer_sizes: [128, 64]; learning_rate: 0.1; mom_alpha: 0.7; reg_lambda: 0; nesterov: True; tao: 200: 1.0219825738910673\n",
      "batch_size: 64; hidden_layer_sizes: [64, 32]; learning_rate: 0.05; mom_alpha: 0.7; reg_lambda: 0; nesterov: False; tao: 500: 1.0254693016456038\n",
      "batch_size: 64; hidden_layer_sizes: [128, 64]; learning_rate: 0.1; mom_alpha: 0.7; reg_lambda: 0; nesterov: False; tao: 200: 1.025800555815768\n",
      "batch_size: 64; hidden_layer_sizes: [64, 32]; learning_rate: 0.1; mom_alpha: 0.9; reg_lambda: 1e-05; nesterov: False; tao: 200: 1.0283130154849662\n",
      "batch_size: 64; hidden_layer_sizes: [64, 64, 32]; learning_rate: 0.05; mom_alpha: 0.6; reg_lambda: 0; nesterov: False; tao: 500: 1.0326932556222899\n",
      "batch_size: 64; hidden_layer_sizes: [128, 64]; learning_rate: 0.05; mom_alpha: 0.7; reg_lambda: 0; nesterov: True; tao: 500: 1.0349007198885827\n",
      "batch_size: 64; hidden_layer_sizes: [64, 32]; learning_rate: 0.05; mom_alpha: 0.9; reg_lambda: 0; nesterov: False; tao: 200: 1.0416975738763299\n",
      "batch_size: 64; hidden_layer_sizes: [64, 64, 32]; learning_rate: 0.05; mom_alpha: 0.9; reg_lambda: 1e-05; nesterov: True; tao: 200: 1.0449440618448587\n",
      "batch_size: 64; hidden_layer_sizes: [64, 64, 32]; learning_rate: 0.1; mom_alpha: 0.7; reg_lambda: 1e-05; nesterov: False; tao: 500: 1.0565281105832276\n",
      "batch_size: 64; hidden_layer_sizes: [128, 64]; learning_rate: 0.05; mom_alpha: 0.9; reg_lambda: 1e-05; nesterov: True; tao: 200: 1.0634489594663685\n",
      "batch_size: 64; hidden_layer_sizes: [64, 32]; learning_rate: 0.05; mom_alpha: 0.9; reg_lambda: 1e-05; nesterov: True; tao: 200: 1.063985747874219\n",
      "batch_size: 64; hidden_layer_sizes: [128, 128]; learning_rate: 0.1; mom_alpha: 0.7; reg_lambda: 0; nesterov: True; tao: 200: 1.0697250257396822\n",
      "batch_size: 64; hidden_layer_sizes: [64, 64, 32]; learning_rate: 0.1; mom_alpha: 0.6; reg_lambda: 0; nesterov: True; tao: 200: 1.0727147293363826\n",
      "batch_size: 64; hidden_layer_sizes: [64, 64, 32]; learning_rate: 0.1; mom_alpha: 0.9; reg_lambda: 0; nesterov: True; tao: 500: 1.0753417735534205\n",
      "batch_size: 64; hidden_layer_sizes: [128, 64]; learning_rate: 0.05; mom_alpha: 0.6; reg_lambda: 0; nesterov: False; tao: 500: 1.0757950521059838\n",
      "batch_size: 64; hidden_layer_sizes: [64, 64, 32]; learning_rate: 0.1; mom_alpha: 0.7; reg_lambda: 1e-05; nesterov: True; tao: 500: 1.0783242586055173\n",
      "batch_size: 64; hidden_layer_sizes: [64, 32]; learning_rate: 0.1; mom_alpha: 0.7; reg_lambda: 0; nesterov: True; tao: 200: 1.0786066470460218\n",
      "batch_size: 64; hidden_layer_sizes: [128, 64]; learning_rate: 0.1; mom_alpha: 0.7; reg_lambda: 1e-05; nesterov: True; tao: 500: 1.0809747058836614\n",
      "batch_size: 64; hidden_layer_sizes: [128, 64]; learning_rate: 0.05; mom_alpha: 0.6; reg_lambda: 0; nesterov: True; tao: 500: 1.081206974875827\n",
      "batch_size: 64; hidden_layer_sizes: [64, 32]; learning_rate: 0.05; mom_alpha: 0.6; reg_lambda: 0; nesterov: False; tao: 500: 1.0878717364340702\n",
      "batch_size: 64; hidden_layer_sizes: [128, 64]; learning_rate: 0.1; mom_alpha: 0.7; reg_lambda: 1e-05; nesterov: False; tao: 500: 1.090788654960159\n",
      "batch_size: 64; hidden_layer_sizes: [64, 32]; learning_rate: 0.1; mom_alpha: 0.7; reg_lambda: 0; nesterov: False; tao: 200: 1.0912638109333777\n",
      "batch_size: 64; hidden_layer_sizes: [128, 128]; learning_rate: 0.05; mom_alpha: 0.9; reg_lambda: 1e-05; nesterov: True; tao: 200: 1.0953734692570614\n",
      "batch_size: 64; hidden_layer_sizes: [128, 128]; learning_rate: 0.05; mom_alpha: 0.6; reg_lambda: 0; nesterov: True; tao: 500: 1.0968385548164274\n",
      "batch_size: 64; hidden_layer_sizes: [64, 64, 32]; learning_rate: 0.1; mom_alpha: 0.6; reg_lambda: 0; nesterov: False; tao: 200: 1.097493141663891\n",
      "batch_size: 64; hidden_layer_sizes: [128, 128]; learning_rate: 0.05; mom_alpha: 0.9; reg_lambda: 1e-05; nesterov: False; tao: 200: 1.0977599693707027\n"
     ]
    }
   ],
   "source": [
    "results = get_all_results('ml_cup_first_grid.json')\n",
    "print(f'total number of explored configs: {len(results)}')\n",
    "\n",
    "validation_mee_means = {model[0]: model[1]['validation_mee_mean'] for model in top_100}\n",
    "\n",
    "for model_config, mee_mean in validation_mee_means.items():\n",
    "    print(f\"{model_config}: {mee_mean}\")"
   ]
  },
  {
   "cell_type": "code",
   "execution_count": 23,
   "metadata": {},
   "outputs": [],
   "source": [
    "top_100_merged = get_top_n_results('ml_cup_first_grid_1_64.json', 100, 'validation_mee_mean', ascending=True)\n",
    "top_50_merged = get_top_n_results('ml_cup_first_grid_1_64.json', 50, 'validation_mee_mean', ascending=True)\n",
    "top_20_merged = get_top_n_results('ml_cup_first_grid_1_64.json', 20, 'validation_mee_mean', ascending=True)"
   ]
  },
  {
   "cell_type": "code",
   "execution_count": 24,
   "metadata": {},
   "outputs": [
    {
     "name": "stdout",
     "output_type": "stream",
     "text": [
      "total number of explored configs: 1536\n",
      "batch_size: 64; hidden_layer_sizes: [128, 128]; learning_rate: 0.1; mom_alpha: 0.9; reg_lambda: 0; nesterov: False; tao: 500: 0.7154765680987968\n",
      "batch_size: 1; hidden_layer_sizes: [128, 128]; learning_rate: 0.005; mom_alpha: 0.7; reg_lambda: 0; nesterov: True; tao: 500: 0.7419609846945789\n",
      "batch_size: 1; hidden_layer_sizes: [128, 128]; learning_rate: 0.005; mom_alpha: 0.6; reg_lambda: 0; nesterov: False; tao: 500: 0.7440397390461252\n",
      "batch_size: 1; hidden_layer_sizes: [128, 128]; learning_rate: 0.005; mom_alpha: 0.6; reg_lambda: 0; nesterov: True; tao: 500: 0.745788525360421\n",
      "batch_size: 1; hidden_layer_sizes: [128, 128]; learning_rate: 0.005; mom_alpha: 0.6; reg_lambda: 1e-05; nesterov: True; tao: 500: 0.7461281733837245\n",
      "batch_size: 1; hidden_layer_sizes: [128, 128]; learning_rate: 0.005; mom_alpha: 0.7; reg_lambda: 1e-05; nesterov: False; tao: 500: 0.7542952696222641\n",
      "batch_size: 1; hidden_layer_sizes: [128, 64]; learning_rate: 0.005; mom_alpha: 0.7; reg_lambda: 0.0001; nesterov: False; tao: 500: 0.7563073894962266\n",
      "batch_size: 64; hidden_layer_sizes: [128, 64]; learning_rate: 0.1; mom_alpha: 0.9; reg_lambda: 0; nesterov: True; tao: 500: 0.7617515470224704\n",
      "batch_size: 1; hidden_layer_sizes: [128, 64]; learning_rate: 0.005; mom_alpha: 0.6; reg_lambda: 0; nesterov: True; tao: 500: 0.7632253987951496\n",
      "batch_size: 1; hidden_layer_sizes: [128, 128]; learning_rate: 0.005; mom_alpha: 0.7; reg_lambda: 0.0001; nesterov: False; tao: 500: 0.7639040654637\n",
      "batch_size: 1; hidden_layer_sizes: [128, 128]; learning_rate: 0.005; mom_alpha: 0.7; reg_lambda: 0; nesterov: False; tao: 500: 0.7691854868578999\n",
      "batch_size: 1; hidden_layer_sizes: [128, 128]; learning_rate: 0.005; mom_alpha: 0.7; reg_lambda: 0.0001; nesterov: True; tao: 500: 0.7695506982087661\n",
      "batch_size: 1; hidden_layer_sizes: [128, 64]; learning_rate: 0.005; mom_alpha: 0.7; reg_lambda: 1e-05; nesterov: False; tao: 500: 0.7746049379735201\n",
      "batch_size: 64; hidden_layer_sizes: [128, 64]; learning_rate: 0.05; mom_alpha: 0.9; reg_lambda: 0; nesterov: False; tao: 500: 0.775287601192836\n",
      "batch_size: 1; hidden_layer_sizes: [128, 128]; learning_rate: 0.005; mom_alpha: 0.6; reg_lambda: 1e-05; nesterov: False; tao: 500: 0.779624480481028\n",
      "batch_size: 64; hidden_layer_sizes: [128, 64]; learning_rate: 0.1; mom_alpha: 0.9; reg_lambda: 0; nesterov: False; tao: 500: 0.7802537021435517\n",
      "batch_size: 1; hidden_layer_sizes: [128, 64]; learning_rate: 0.005; mom_alpha: 0.6; reg_lambda: 0.0001; nesterov: False; tao: 500: 0.7823283338058493\n",
      "batch_size: 1; hidden_layer_sizes: [128, 64]; learning_rate: 0.005; mom_alpha: 0.7; reg_lambda: 0; nesterov: True; tao: 500: 0.7847934294972001\n",
      "batch_size: 1; hidden_layer_sizes: [128, 128]; learning_rate: 0.005; mom_alpha: 0.6; reg_lambda: 0.0001; nesterov: True; tao: 500: 0.7863105171032169\n",
      "batch_size: 1; hidden_layer_sizes: [128, 128]; learning_rate: 0.005; mom_alpha: 0.7; reg_lambda: 1e-05; nesterov: True; tao: 500: 0.7871522609128955\n",
      "batch_size: 1; hidden_layer_sizes: [128, 128]; learning_rate: 0.005; mom_alpha: 0.6; reg_lambda: 0.0001; nesterov: False; tao: 500: 0.7872919225248225\n",
      "batch_size: 1; hidden_layer_sizes: [128, 64]; learning_rate: 0.005; mom_alpha: 0.7; reg_lambda: 0.0001; nesterov: True; tao: 500: 0.7919146912547199\n",
      "batch_size: 1; hidden_layer_sizes: [128, 64]; learning_rate: 0.005; mom_alpha: 0.7; reg_lambda: 1e-05; nesterov: True; tao: 500: 0.7982382886515099\n",
      "batch_size: 1; hidden_layer_sizes: [64, 32]; learning_rate: 0.005; mom_alpha: 0.6; reg_lambda: 1e-05; nesterov: True; tao: 500: 0.8012476655518204\n",
      "batch_size: 64; hidden_layer_sizes: [128, 128]; learning_rate: 0.1; mom_alpha: 0.9; reg_lambda: 0; nesterov: True; tao: 500: 0.8025707319872527\n",
      "batch_size: 64; hidden_layer_sizes: [128, 128]; learning_rate: 0.05; mom_alpha: 0.9; reg_lambda: 0; nesterov: True; tao: 500: 0.8028411752947933\n",
      "batch_size: 1; hidden_layer_sizes: [128, 128]; learning_rate: 0.005; mom_alpha: 0.6; reg_lambda: 0; nesterov: False; tao: 200: 0.8077265040048528\n",
      "batch_size: 1; hidden_layer_sizes: [128, 64]; learning_rate: 0.005; mom_alpha: 0.7; reg_lambda: 0; nesterov: False; tao: 500: 0.8079991015296919\n",
      "batch_size: 1; hidden_layer_sizes: [128, 128]; learning_rate: 0.005; mom_alpha: 0.7; reg_lambda: 1e-05; nesterov: True; tao: 200: 0.8112343178511862\n",
      "batch_size: 1; hidden_layer_sizes: [128, 64]; learning_rate: 0.005; mom_alpha: 0.6; reg_lambda: 0; nesterov: False; tao: 500: 0.8126788979878908\n",
      "batch_size: 1; hidden_layer_sizes: [128, 128]; learning_rate: 0.005; mom_alpha: 0.7; reg_lambda: 0; nesterov: True; tao: 200: 0.8128843300993799\n",
      "batch_size: 64; hidden_layer_sizes: [128, 128]; learning_rate: 0.1; mom_alpha: 0.9; reg_lambda: 0; nesterov: True; tao: 200: 0.8155806793178879\n",
      "batch_size: 64; hidden_layer_sizes: [64, 64, 32]; learning_rate: 0.05; mom_alpha: 0.9; reg_lambda: 0; nesterov: True; tao: 500: 0.8170324003222172\n",
      "batch_size: 1; hidden_layer_sizes: [64, 64, 32]; learning_rate: 0.005; mom_alpha: 0; reg_lambda: 0; nesterov: True; tao: 500: 0.820452697309257\n",
      "batch_size: 64; hidden_layer_sizes: [128, 64]; learning_rate: 0.05; mom_alpha: 0.9; reg_lambda: 0; nesterov: True; tao: 500: 0.8211345312144522\n",
      "batch_size: 1; hidden_layer_sizes: [64, 64, 32]; learning_rate: 0.0005; mom_alpha: 0.9; reg_lambda: 0; nesterov: True; tao: 500: 0.8222333124202414\n",
      "batch_size: 1; hidden_layer_sizes: [128, 64]; learning_rate: 0.005; mom_alpha: 0.6; reg_lambda: 1e-05; nesterov: False; tao: 500: 0.8230204588331564\n",
      "batch_size: 64; hidden_layer_sizes: [128, 128]; learning_rate: 0.1; mom_alpha: 0.9; reg_lambda: 1e-05; nesterov: False; tao: 500: 0.8258797633421059\n",
      "batch_size: 1; hidden_layer_sizes: [128, 128]; learning_rate: 0.005; mom_alpha: 0; reg_lambda: 1e-05; nesterov: True; tao: 500: 0.8269817727981251\n",
      "batch_size: 64; hidden_layer_sizes: [64, 32]; learning_rate: 0.05; mom_alpha: 0.9; reg_lambda: 0; nesterov: False; tao: 500: 0.8284263975623012\n",
      "batch_size: 1; hidden_layer_sizes: [64, 64, 32]; learning_rate: 0.005; mom_alpha: 0; reg_lambda: 1e-05; nesterov: True; tao: 500: 0.828886719742049\n",
      "batch_size: 64; hidden_layer_sizes: [64, 64, 32]; learning_rate: 0.05; mom_alpha: 0.9; reg_lambda: 0; nesterov: False; tao: 500: 0.8291169592936424\n",
      "batch_size: 1; hidden_layer_sizes: [64, 32]; learning_rate: 0.005; mom_alpha: 0.7; reg_lambda: 0.0001; nesterov: False; tao: 500: 0.8291248828052344\n",
      "batch_size: 1; hidden_layer_sizes: [64, 32]; learning_rate: 0.005; mom_alpha: 0.7; reg_lambda: 0; nesterov: False; tao: 500: 0.8292668291844144\n",
      "batch_size: 64; hidden_layer_sizes: [128, 128]; learning_rate: 0.05; mom_alpha: 0.9; reg_lambda: 0; nesterov: False; tao: 500: 0.8292840103769793\n",
      "batch_size: 1; hidden_layer_sizes: [128, 64]; learning_rate: 0.005; mom_alpha: 0.6; reg_lambda: 1e-05; nesterov: True; tao: 500: 0.8301201283125291\n",
      "batch_size: 1; hidden_layer_sizes: [64, 32]; learning_rate: 0.005; mom_alpha: 0.7; reg_lambda: 0; nesterov: True; tao: 500: 0.8302182820513943\n",
      "batch_size: 1; hidden_layer_sizes: [128, 64]; learning_rate: 0.005; mom_alpha: 0.7; reg_lambda: 0.0001; nesterov: True; tao: 200: 0.8316292632181895\n",
      "batch_size: 1; hidden_layer_sizes: [64, 64, 32]; learning_rate: 0.005; mom_alpha: 0; reg_lambda: 1e-05; nesterov: False; tao: 500: 0.8317873944070375\n",
      "batch_size: 1; hidden_layer_sizes: [64, 32]; learning_rate: 0.005; mom_alpha: 0.6; reg_lambda: 0; nesterov: True; tao: 500: 0.8322125307453451\n",
      "batch_size: 1; hidden_layer_sizes: [64, 64, 32]; learning_rate: 0.0005; mom_alpha: 0.9; reg_lambda: 1e-05; nesterov: True; tao: 500: 0.8323831372177585\n",
      "batch_size: 1; hidden_layer_sizes: [64, 64, 32]; learning_rate: 0.005; mom_alpha: 0; reg_lambda: 0; nesterov: False; tao: 500: 0.8332816762205638\n",
      "batch_size: 1; hidden_layer_sizes: [64, 64, 32]; learning_rate: 0.0005; mom_alpha: 0.9; reg_lambda: 0; nesterov: False; tao: 500: 0.8335469956127657\n",
      "batch_size: 64; hidden_layer_sizes: [128, 128]; learning_rate: 0.1; mom_alpha: 0.9; reg_lambda: 0; nesterov: False; tao: 200: 0.8337438429336981\n",
      "batch_size: 1; hidden_layer_sizes: [128, 128]; learning_rate: 0.005; mom_alpha: 0; reg_lambda: 1e-05; nesterov: False; tao: 500: 0.8343228275050297\n",
      "batch_size: 64; hidden_layer_sizes: [128, 64]; learning_rate: 0.1; mom_alpha: 0.9; reg_lambda: 0; nesterov: True; tao: 200: 0.835466159241105\n",
      "batch_size: 1; hidden_layer_sizes: [64, 32]; learning_rate: 0.005; mom_alpha: 0.6; reg_lambda: 0; nesterov: False; tao: 500: 0.8382491440574875\n",
      "batch_size: 64; hidden_layer_sizes: [128, 64]; learning_rate: 0.1; mom_alpha: 0.7; reg_lambda: 0; nesterov: False; tao: 500: 0.8391611154868892\n",
      "batch_size: 1; hidden_layer_sizes: [128, 128]; learning_rate: 0.005; mom_alpha: 0.7; reg_lambda: 1e-05; nesterov: False; tao: 200: 0.8419094503600294\n",
      "batch_size: 1; hidden_layer_sizes: [128, 128]; learning_rate: 0.005; mom_alpha: 0.7; reg_lambda: 0.0001; nesterov: False; tao: 200: 0.84225450570007\n",
      "batch_size: 64; hidden_layer_sizes: [64, 64, 32]; learning_rate: 0.1; mom_alpha: 0.6; reg_lambda: 0; nesterov: True; tao: 500: 0.8425896210690388\n",
      "batch_size: 1; hidden_layer_sizes: [128, 64]; learning_rate: 0.005; mom_alpha: 0; reg_lambda: 0; nesterov: True; tao: 500: 0.842818615570132\n",
      "batch_size: 1; hidden_layer_sizes: [128, 64]; learning_rate: 0.005; mom_alpha: 0; reg_lambda: 0; nesterov: False; tao: 500: 0.8429756446101343\n",
      "batch_size: 1; hidden_layer_sizes: [128, 128]; learning_rate: 0.0005; mom_alpha: 0.9; reg_lambda: 0; nesterov: False; tao: 500: 0.8437995372278553\n",
      "batch_size: 64; hidden_layer_sizes: [128, 128]; learning_rate: 0.1; mom_alpha: 0.7; reg_lambda: 0; nesterov: False; tao: 500: 0.8442659603607786\n",
      "batch_size: 64; hidden_layer_sizes: [64, 32]; learning_rate: 0.1; mom_alpha: 0.9; reg_lambda: 0; nesterov: False; tao: 500: 0.844582014049216\n",
      "batch_size: 1; hidden_layer_sizes: [128, 128]; learning_rate: 0.005; mom_alpha: 0.6; reg_lambda: 1e-05; nesterov: False; tao: 200: 0.8450745865313368\n",
      "batch_size: 64; hidden_layer_sizes: [64, 64, 32]; learning_rate: 0.1; mom_alpha: 0.7; reg_lambda: 0; nesterov: True; tao: 500: 0.8457914023041869\n",
      "batch_size: 1; hidden_layer_sizes: [64, 64, 32]; learning_rate: 0.005; mom_alpha: 0; reg_lambda: 0.0001; nesterov: True; tao: 500: 0.8470268338579526\n",
      "batch_size: 1; hidden_layer_sizes: [128, 128]; learning_rate: 0.005; mom_alpha: 0.7; reg_lambda: 0; nesterov: False; tao: 200: 0.8471510939488623\n",
      "batch_size: 64; hidden_layer_sizes: [64, 32]; learning_rate: 0.1; mom_alpha: 0.7; reg_lambda: 0; nesterov: True; tao: 500: 0.8485166563413565\n",
      "batch_size: 64; hidden_layer_sizes: [64, 32]; learning_rate: 0.05; mom_alpha: 0.9; reg_lambda: 0; nesterov: True; tao: 500: 0.8494622548928312\n",
      "batch_size: 1; hidden_layer_sizes: [64, 64, 32]; learning_rate: 0.005; mom_alpha: 0.6; reg_lambda: 1e-05; nesterov: True; tao: 500: 0.8500322233589105\n",
      "batch_size: 64; hidden_layer_sizes: [128, 128]; learning_rate: 0.1; mom_alpha: 0.9; reg_lambda: 1e-05; nesterov: True; tao: 500: 0.8507233534179234\n",
      "batch_size: 64; hidden_layer_sizes: [128, 128]; learning_rate: 0.1; mom_alpha: 0.7; reg_lambda: 0; nesterov: True; tao: 500: 0.851683542116653\n",
      "batch_size: 1; hidden_layer_sizes: [128, 128]; learning_rate: 0.005; mom_alpha: 0.7; reg_lambda: 0.0001; nesterov: True; tao: 200: 0.852147472281959\n",
      "batch_size: 1; hidden_layer_sizes: [64, 32]; learning_rate: 0.005; mom_alpha: 0.6; reg_lambda: 1e-05; nesterov: False; tao: 500: 0.8522636056436644\n",
      "batch_size: 1; hidden_layer_sizes: [128, 64]; learning_rate: 0.005; mom_alpha: 0.7; reg_lambda: 0; nesterov: True; tao: 200: 0.8534366573210385\n",
      "batch_size: 1; hidden_layer_sizes: [128, 64]; learning_rate: 0.0005; mom_alpha: 0.9; reg_lambda: 0; nesterov: True; tao: 500: 0.8538583191395134\n",
      "batch_size: 1; hidden_layer_sizes: [64, 32]; learning_rate: 0.005; mom_alpha: 0.6; reg_lambda: 0.0001; nesterov: False; tao: 500: 0.8545797567761738\n",
      "batch_size: 1; hidden_layer_sizes: [64, 32]; learning_rate: 0.005; mom_alpha: 0; reg_lambda: 1e-05; nesterov: True; tao: 500: 0.85477819250738\n",
      "batch_size: 1; hidden_layer_sizes: [128, 64]; learning_rate: 0.005; mom_alpha: 0.6; reg_lambda: 0.0001; nesterov: True; tao: 500: 0.8552498208508936\n",
      "batch_size: 1; hidden_layer_sizes: [64, 32]; learning_rate: 0.005; mom_alpha: 0.7; reg_lambda: 0.0001; nesterov: True; tao: 500: 0.8552591624117062\n",
      "batch_size: 1; hidden_layer_sizes: [128, 128]; learning_rate: 0.005; mom_alpha: 0; reg_lambda: 0; nesterov: True; tao: 500: 0.8552834213163796\n",
      "batch_size: 1; hidden_layer_sizes: [64, 64, 32]; learning_rate: 0.0005; mom_alpha: 0.9; reg_lambda: 1e-05; nesterov: False; tao: 500: 0.8556543100718025\n",
      "batch_size: 1; hidden_layer_sizes: [128, 64]; learning_rate: 0.005; mom_alpha: 0.7; reg_lambda: 0.0001; nesterov: False; tao: 200: 0.8556777655242932\n",
      "batch_size: 1; hidden_layer_sizes: [64, 32]; learning_rate: 0.005; mom_alpha: 0.6; reg_lambda: 0.0001; nesterov: True; tao: 500: 0.8570640799219992\n",
      "batch_size: 64; hidden_layer_sizes: [64, 64, 32]; learning_rate: 0.1; mom_alpha: 0.9; reg_lambda: 1e-05; nesterov: True; tao: 500: 0.8575352518932027\n",
      "batch_size: 64; hidden_layer_sizes: [64, 32]; learning_rate: 0.1; mom_alpha: 0.9; reg_lambda: 0; nesterov: True; tao: 500: 0.8579958164786857\n",
      "batch_size: 1; hidden_layer_sizes: [64, 64, 32]; learning_rate: 0.005; mom_alpha: 0.6; reg_lambda: 0; nesterov: False; tao: 500: 0.8594407680776327\n",
      "batch_size: 1; hidden_layer_sizes: [64, 32]; learning_rate: 0.005; mom_alpha: 0; reg_lambda: 0; nesterov: True; tao: 500: 0.8595809616096428\n",
      "batch_size: 64; hidden_layer_sizes: [128, 64]; learning_rate: 0.1; mom_alpha: 0.7; reg_lambda: 0; nesterov: True; tao: 500: 0.8597648195659128\n",
      "batch_size: 1; hidden_layer_sizes: [128, 64]; learning_rate: 0.005; mom_alpha: 0.7; reg_lambda: 0; nesterov: False; tao: 200: 0.8608607683393842\n",
      "batch_size: 1; hidden_layer_sizes: [128, 128]; learning_rate: 0.005; mom_alpha: 0.6; reg_lambda: 1e-05; nesterov: True; tao: 200: 0.8619654115121959\n",
      "batch_size: 1; hidden_layer_sizes: [128, 128]; learning_rate: 0.005; mom_alpha: 0; reg_lambda: 0.0001; nesterov: False; tao: 500: 0.86205769352497\n",
      "batch_size: 1; hidden_layer_sizes: [128, 128]; learning_rate: 0.005; mom_alpha: 0.6; reg_lambda: 0; nesterov: True; tao: 200: 0.8668758619305601\n",
      "batch_size: 64; hidden_layer_sizes: [64, 32]; learning_rate: 0.1; mom_alpha: 0.9; reg_lambda: 1e-05; nesterov: False; tao: 500: 0.8675571081053213\n",
      "batch_size: 64; hidden_layer_sizes: [64, 32]; learning_rate: 0.1; mom_alpha: 0.9; reg_lambda: 1e-05; nesterov: True; tao: 500: 0.8677717245781089\n",
      "batch_size: 1; hidden_layer_sizes: [128, 128]; learning_rate: 0.0005; mom_alpha: 0.9; reg_lambda: 1e-05; nesterov: False; tao: 500: 0.8680113248653263\n",
      "batch_size: 1; hidden_layer_sizes: [64, 32]; learning_rate: 0.005; mom_alpha: 0.7; reg_lambda: 0; nesterov: False; tao: 200: 0.8680279971381043\n"
     ]
    }
   ],
   "source": [
    "results = get_all_results('ml_cup_first_grid_1_64.json')\n",
    "print(f'total number of explored configs: {len(results)}')\n",
    "\n",
    "validation_mee_means = {model[0]: model[1]['validation_mee_mean'] for model in top_100_merged}\n",
    "\n",
    "for model_config, mee_mean in validation_mee_means.items():\n",
    "    print(f\"{model_config}: {mee_mean}\")"
   ]
  },
  {
   "cell_type": "code",
   "execution_count": 18,
   "metadata": {},
   "outputs": [
    {
     "name": "stdout",
     "output_type": "stream",
     "text": [
      "TOP-100----------------\n",
      "batch_size:\n",
      "  64: 100\n",
      "hidden_layer_sizes:\n",
      "  [128, 128]: 24\n",
      "  [128, 64]: 27\n",
      "  [64, 64, 32]: 25\n",
      "  [64, 32]: 24\n",
      "learning_rate:\n",
      "  0.1: 58\n",
      "  0.05: 42\n",
      "mom_alpha:\n",
      "  0.9: 58\n",
      "  0.7: 27\n",
      "  0.6: 15\n",
      "reg_lambda:\n",
      "  0: 68\n",
      "  1e-05: 32\n",
      "nesterov:\n",
      "  False: 47\n",
      "  True: 53\n",
      "tao:\n",
      "  500: 64\n",
      "  200: 36\n",
      "\n",
      "TOP-50----------------\n",
      "batch_size:\n",
      "  64: 50\n",
      "hidden_layer_sizes:\n",
      "  [128, 128]: 13\n",
      "  [128, 64]: 15\n",
      "  [64, 64, 32]: 11\n",
      "  [64, 32]: 11\n",
      "learning_rate:\n",
      "  0.1: 39\n",
      "  0.05: 11\n",
      "mom_alpha:\n",
      "  0.9: 33\n",
      "  0.7: 9\n",
      "  0.6: 8\n",
      "reg_lambda:\n",
      "  0: 39\n",
      "  1e-05: 11\n",
      "nesterov:\n",
      "  False: 26\n",
      "  True: 24\n",
      "tao:\n",
      "  500: 38\n",
      "  200: 12\n",
      "\n",
      "TOP-20----------------\n",
      "batch_size:\n",
      "  64: 20\n",
      "hidden_layer_sizes:\n",
      "  [128, 128]: 8\n",
      "  [128, 64]: 6\n",
      "  [64, 64, 32]: 4\n",
      "  [64, 32]: 2\n",
      "learning_rate:\n",
      "  0.1: 13\n",
      "  0.05: 7\n",
      "mom_alpha:\n",
      "  0.9: 16\n",
      "  0.7: 3\n",
      "  0.6: 1\n",
      "reg_lambda:\n",
      "  0: 19\n",
      "  1e-05: 1\n",
      "nesterov:\n",
      "  False: 11\n",
      "  True: 9\n",
      "tao:\n",
      "  500: 17\n",
      "  200: 3\n"
     ]
    }
   ],
   "source": [
    "print('TOP-100----------------')\n",
    "count_configs(top_100_merged)\n",
    "print('\\nTOP-50----------------')\n",
    "count_configs(top_50_merged)\n",
    "print('\\nTOP-20----------------')\n",
    "count_configs(top_20_merged)"
   ]
  },
  {
   "cell_type": "code",
   "execution_count": 11,
   "metadata": {},
   "outputs": [],
   "source": [
    "save_top_plots(top_20, 'ml_cup_first_grid', 'ml_cup_first_grid_top_20')"
   ]
  },
  {
   "cell_type": "code",
   "execution_count": null,
   "metadata": {},
   "outputs": [],
   "source": [
    "net = NeuralNetwork(\n",
    "    n_output_units=3, \n",
    "    training_loss_type_value=LossFunction.MSE.value, \n",
    "    validation_loss_type_value=LossFunction.MSE.value, \n",
    "    evaluation_metric_type_value=Metrics.MEE.value,\n",
    "    activation_hidden_type_value=ActivationFunction.SIGMOID.value, \n",
    "    activation_output_type_value=ActivationFunction.IDENTITY.value, \n",
    "    classification=False, \n",
    "    early_stopping=False, \n",
    "    fast_stopping=False,\n",
    "    patience=20, \n",
    "    tolerance=0.1,\n",
    "    epochs=500,\n",
    "    linear_decay=True,\n",
    "    verbose=False,\n",
    "    batch_size=64,\n",
    "    hidden_layer_sizes=[128, 128],\n",
    "    learning_rate=0.005,\n",
    "    mom_alpha=0.7,\n",
    "    reg_lambda=0,\n",
    "    nesterov=False,\n",
    "    tao=500\n",
    ")\n",
    "\n",
    "net.train_net(train_data=train_data, train_target=train_targets, val_data=test_data, val_target=test_targets)"
   ]
  },
  {
   "cell_type": "code",
   "execution_count": null,
   "metadata": {},
   "outputs": [],
   "source": [
    "plot_over_epochs(y_values=net.training_losses, title='MSE loss over epochs', y_label='loss', y_legend='training set', y_prime_values=net.validation_losses, y_prime_legend='test set', yscale='log')\n",
    "plot_over_epochs(y_values=net.training_evaluations, title='training accuracy over epochs', y_label='accuracy', y_legend='training set', y_prime_values=net.validation_evaluations, y_prime_legend='test set', yscale='log')"
   ]
  },
  {
   "cell_type": "code",
   "execution_count": null,
   "metadata": {},
   "outputs": [],
   "source": [
    "net.predict_and_evaluate(test_data, test_targets, Metrics.MEE.value)"
   ]
  },
  {
   "cell_type": "code",
   "execution_count": 25,
   "metadata": {},
   "outputs": [],
   "source": [
    "net = NeuralNetwork(\n",
    "    n_output_units=3, \n",
    "    training_loss_type_value=LossFunction.MSE.value, \n",
    "    validation_loss_type_value=LossFunction.MSE.value, \n",
    "    evaluation_metric_type_value=Metrics.MEE.value,\n",
    "    activation_hidden_type_value=ActivationFunction.SIGMOID.value, \n",
    "    activation_output_type_value=ActivationFunction.IDENTITY.value, \n",
    "    classification=False, \n",
    "    early_stopping=False, \n",
    "    fast_stopping=False,\n",
    "    patience=20, \n",
    "    tolerance=0.1,\n",
    "    epochs=500,\n",
    "    linear_decay=True,\n",
    "    verbose=False,\n",
    "    batch_size=64,\n",
    "    hidden_layer_sizes=[256, 256],\n",
    "    learning_rate=0.005,\n",
    "    mom_alpha=0.7,\n",
    "    reg_lambda=0,\n",
    "    nesterov=False,\n",
    "    tao=500\n",
    ")\n",
    "\n",
    "net.train_net(train_data=train_data, train_target=train_targets, val_data=test_data, val_target=test_targets)"
   ]
  },
  {
   "cell_type": "code",
   "execution_count": null,
   "metadata": {},
   "outputs": [],
   "source": [
    "plot_over_epochs(y_values=net.training_losses, title='MSE loss over epochs', y_label='loss', y_legend='training set', y_prime_values=net.validation_losses, y_prime_legend='test set', yscale='log')\n",
    "plot_over_epochs(y_values=net.training_evaluations, title='training accuracy over epochs', y_label='accuracy', y_legend='training set', y_prime_values=net.validation_evaluations, y_prime_legend='test set', yscale='log')"
   ]
  },
  {
   "cell_type": "code",
   "execution_count": null,
   "metadata": {},
   "outputs": [],
   "source": [
    "net.predict_and_evaluate(test_data, test_targets, Metrics.MEE.value)"
   ]
  },
  {
   "cell_type": "code",
   "execution_count": null,
   "metadata": {},
   "outputs": [],
   "source": [
    "fixed_params = dict(\n",
    "    n_output_units=3, \n",
    "    training_loss_type_value=LossFunction.MSE.value, \n",
    "    validation_loss_type_value=LossFunction.MSE.value, \n",
    "    evaluation_metric_type_value=Metrics.MEE.value,\n",
    "    activation_hidden_type_value=ActivationFunction.SIGMOID.value, \n",
    "    activation_output_type_value=ActivationFunction.IDENTITY.value, \n",
    "    classification=False, \n",
    "    early_stopping=True, \n",
    "    fast_stopping=False,\n",
    "    patience=20, \n",
    "    tolerance=0.1,\n",
    "    epochs=500,\n",
    "    linear_decay=True,\n",
    "    verbose=False,\n",
    ")\n",
    "\n",
    "grid_params = dict(\n",
    "    batch_size=[64],\n",
    "    hidden_layer_sizes=[[128, 128]],\n",
    "    learning_rate=[0.02, 0.04, 0.05, 0.08, 0.1, 0.2],\n",
    "    mom_alpha=[0, 0.6, 0.7, 0.9],\n",
    "    reg_lambda=[0, 0.00001],\n",
    "    nesterov=[False],\n",
    "    tao=[500]\n",
    ")\n",
    "\n",
    "results = grid_search(\n",
    "    k_folds=3, \n",
    "    data=train_data, \n",
    "    target=train_targets, \n",
    "    metrics=[Metrics.MSE.value, Metrics.MEE.value], \n",
    "    fixed_param=fixed_params, \n",
    "    grid_param=grid_params, \n",
    "    file_name_results=\"ml_cup_first_grid\", \n",
    "    verbose=False,\n",
    "    plot=True,\n",
    "    log_scale=True\n",
    ")"
   ]
  },
  {
   "cell_type": "markdown",
   "metadata": {},
   "source": [
    "training on best model for 64 batch_size version"
   ]
  },
  {
   "cell_type": "code",
   "execution_count": 6,
   "metadata": {},
   "outputs": [],
   "source": [
    "net = NeuralNetwork(\n",
    "    n_output_units=3, \n",
    "    training_loss_type_value=LossFunction.MSE.value, \n",
    "    validation_loss_type_value=LossFunction.MSE.value, \n",
    "    evaluation_metric_type_value=Metrics.MEE.value,\n",
    "    activation_hidden_type_value=ActivationFunction.SIGMOID.value, \n",
    "    activation_output_type_value=ActivationFunction.IDENTITY.value, \n",
    "    classification=False, \n",
    "    early_stopping=False, \n",
    "    fast_stopping=False,\n",
    "    patience=20, \n",
    "    tolerance=0.1,\n",
    "    epochs=500,\n",
    "    linear_decay=True,\n",
    "    verbose=False,\n",
    "    batch_size=64,\n",
    "    hidden_layer_sizes=[128, 128],\n",
    "    learning_rate=0.1,\n",
    "    mom_alpha=0.9,\n",
    "    reg_lambda=0,\n",
    "    nesterov=False,\n",
    "    tao=500\n",
    ")\n",
    "\n",
    "net.train_net(train_data=train_data, train_target=train_targets, val_data=test_data, val_target=test_targets)"
   ]
  },
  {
   "cell_type": "code",
   "execution_count": 10,
   "metadata": {},
   "outputs": [
    {
     "data": {
      "image/png": "[encoded data removed]",
      "text/plain": [
       "<Figure size 400x400 with 1 Axes>"
      ]
     },
     "metadata": {},
     "output_type": "display_data"
    },
    {
     "data": {
      "image/png": "[encoded data removed]",
      "text/plain": [
       "<Figure size 400x400 with 1 Axes>"
      ]
     },
     "metadata": {},
     "output_type": "display_data"
    }
   ],
   "source": [
    "plot_over_epochs(y_values=net.training_losses, title='MSE loss over epochs', y_label='loss', y_legend='training set', y_prime_values=net.validation_losses, y_prime_legend='test set', yscale='log')\n",
    "plot_over_epochs(y_values=net.training_evaluations, title='training accuracy over epochs', y_label='accuracy', y_legend='training set', y_prime_values=net.validation_evaluations, y_prime_legend='test set', yscale='log')"
   ]
  },
  {
   "cell_type": "code",
   "execution_count": 12,
   "metadata": {},
   "outputs": [
    {
     "data": {
      "text/plain": [
       "0.5211710770951682"
      ]
     },
     "execution_count": 12,
     "metadata": {},
     "output_type": "execute_result"
    }
   ],
   "source": [
    "net.predict_and_evaluate(test_data, test_targets, Metrics.MEE.value)"
   ]
  },
  {
   "cell_type": "code",
   "execution_count": null,
   "metadata": {},
   "outputs": [],
   "source": []
  }
 ],
 "metadata": {
  "kernelspec": {
   "display_name": "ml",
   "language": "python",
   "name": "python3"
  },
  "language_info": {
   "codemirror_mode": {
    "name": "ipython",
    "version": 3
   },
   "file_extension": ".py",
   "mimetype": "text/x-python",
   "name": "python",
   "nbconvert_exporter": "python",
   "pygments_lexer": "ipython3",
   "version": "3.8.18"
  }
 },
 "nbformat": 4,
 "nbformat_minor": 2
}
